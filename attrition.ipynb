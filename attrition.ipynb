{
  "cells": [
    {
      "cell_type": "markdown",
      "metadata": {
        "id": "alIIEHibGc3M"
      },
      "source": [
        "## Part 1: Preprocessing"
      ]
    },
    {
      "cell_type": "code",
      "execution_count": 1,
      "metadata": {
        "colab": {
          "base_uri": "https://localhost:8080/",
          "height": 325
        },
        "id": "6eDUJ4NtGc3P",
        "outputId": "2480098c-135c-4cbf-9552-018494ee8ff5"
      },
      "outputs": [
        {
          "data": {
            "text/html": [
              "<div>\n",
              "<style scoped>\n",
              "    .dataframe tbody tr th:only-of-type {\n",
              "        vertical-align: middle;\n",
              "    }\n",
              "\n",
              "    .dataframe tbody tr th {\n",
              "        vertical-align: top;\n",
              "    }\n",
              "\n",
              "    .dataframe thead th {\n",
              "        text-align: right;\n",
              "    }\n",
              "</style>\n",
              "<table border=\"1\" class=\"dataframe\">\n",
              "  <thead>\n",
              "    <tr style=\"text-align: right;\">\n",
              "      <th></th>\n",
              "      <th>Age</th>\n",
              "      <th>Attrition</th>\n",
              "      <th>BusinessTravel</th>\n",
              "      <th>Department</th>\n",
              "      <th>DistanceFromHome</th>\n",
              "      <th>Education</th>\n",
              "      <th>EducationField</th>\n",
              "      <th>EnvironmentSatisfaction</th>\n",
              "      <th>HourlyRate</th>\n",
              "      <th>JobInvolvement</th>\n",
              "      <th>...</th>\n",
              "      <th>PerformanceRating</th>\n",
              "      <th>RelationshipSatisfaction</th>\n",
              "      <th>StockOptionLevel</th>\n",
              "      <th>TotalWorkingYears</th>\n",
              "      <th>TrainingTimesLastYear</th>\n",
              "      <th>WorkLifeBalance</th>\n",
              "      <th>YearsAtCompany</th>\n",
              "      <th>YearsInCurrentRole</th>\n",
              "      <th>YearsSinceLastPromotion</th>\n",
              "      <th>YearsWithCurrManager</th>\n",
              "    </tr>\n",
              "  </thead>\n",
              "  <tbody>\n",
              "    <tr>\n",
              "      <th>0</th>\n",
              "      <td>41</td>\n",
              "      <td>Yes</td>\n",
              "      <td>Travel_Rarely</td>\n",
              "      <td>Sales</td>\n",
              "      <td>1</td>\n",
              "      <td>2</td>\n",
              "      <td>Life Sciences</td>\n",
              "      <td>2</td>\n",
              "      <td>94</td>\n",
              "      <td>3</td>\n",
              "      <td>...</td>\n",
              "      <td>3</td>\n",
              "      <td>1</td>\n",
              "      <td>0</td>\n",
              "      <td>8</td>\n",
              "      <td>0</td>\n",
              "      <td>1</td>\n",
              "      <td>6</td>\n",
              "      <td>4</td>\n",
              "      <td>0</td>\n",
              "      <td>5</td>\n",
              "    </tr>\n",
              "    <tr>\n",
              "      <th>1</th>\n",
              "      <td>49</td>\n",
              "      <td>No</td>\n",
              "      <td>Travel_Frequently</td>\n",
              "      <td>Research &amp; Development</td>\n",
              "      <td>8</td>\n",
              "      <td>1</td>\n",
              "      <td>Life Sciences</td>\n",
              "      <td>3</td>\n",
              "      <td>61</td>\n",
              "      <td>2</td>\n",
              "      <td>...</td>\n",
              "      <td>4</td>\n",
              "      <td>4</td>\n",
              "      <td>1</td>\n",
              "      <td>10</td>\n",
              "      <td>3</td>\n",
              "      <td>3</td>\n",
              "      <td>10</td>\n",
              "      <td>7</td>\n",
              "      <td>1</td>\n",
              "      <td>7</td>\n",
              "    </tr>\n",
              "    <tr>\n",
              "      <th>2</th>\n",
              "      <td>37</td>\n",
              "      <td>Yes</td>\n",
              "      <td>Travel_Rarely</td>\n",
              "      <td>Research &amp; Development</td>\n",
              "      <td>2</td>\n",
              "      <td>2</td>\n",
              "      <td>Other</td>\n",
              "      <td>4</td>\n",
              "      <td>92</td>\n",
              "      <td>2</td>\n",
              "      <td>...</td>\n",
              "      <td>3</td>\n",
              "      <td>2</td>\n",
              "      <td>0</td>\n",
              "      <td>7</td>\n",
              "      <td>3</td>\n",
              "      <td>3</td>\n",
              "      <td>0</td>\n",
              "      <td>0</td>\n",
              "      <td>0</td>\n",
              "      <td>0</td>\n",
              "    </tr>\n",
              "    <tr>\n",
              "      <th>3</th>\n",
              "      <td>33</td>\n",
              "      <td>No</td>\n",
              "      <td>Travel_Frequently</td>\n",
              "      <td>Research &amp; Development</td>\n",
              "      <td>3</td>\n",
              "      <td>4</td>\n",
              "      <td>Life Sciences</td>\n",
              "      <td>4</td>\n",
              "      <td>56</td>\n",
              "      <td>3</td>\n",
              "      <td>...</td>\n",
              "      <td>3</td>\n",
              "      <td>3</td>\n",
              "      <td>0</td>\n",
              "      <td>8</td>\n",
              "      <td>3</td>\n",
              "      <td>3</td>\n",
              "      <td>8</td>\n",
              "      <td>7</td>\n",
              "      <td>3</td>\n",
              "      <td>0</td>\n",
              "    </tr>\n",
              "    <tr>\n",
              "      <th>4</th>\n",
              "      <td>27</td>\n",
              "      <td>No</td>\n",
              "      <td>Travel_Rarely</td>\n",
              "      <td>Research &amp; Development</td>\n",
              "      <td>2</td>\n",
              "      <td>1</td>\n",
              "      <td>Medical</td>\n",
              "      <td>1</td>\n",
              "      <td>40</td>\n",
              "      <td>3</td>\n",
              "      <td>...</td>\n",
              "      <td>3</td>\n",
              "      <td>4</td>\n",
              "      <td>1</td>\n",
              "      <td>6</td>\n",
              "      <td>3</td>\n",
              "      <td>3</td>\n",
              "      <td>2</td>\n",
              "      <td>2</td>\n",
              "      <td>2</td>\n",
              "      <td>2</td>\n",
              "    </tr>\n",
              "  </tbody>\n",
              "</table>\n",
              "<p>5 rows × 27 columns</p>\n",
              "</div>"
            ],
            "text/plain": [
              "   Age Attrition     BusinessTravel              Department  DistanceFromHome  \\\n",
              "0   41       Yes      Travel_Rarely                   Sales                 1   \n",
              "1   49        No  Travel_Frequently  Research & Development                 8   \n",
              "2   37       Yes      Travel_Rarely  Research & Development                 2   \n",
              "3   33        No  Travel_Frequently  Research & Development                 3   \n",
              "4   27        No      Travel_Rarely  Research & Development                 2   \n",
              "\n",
              "   Education EducationField  EnvironmentSatisfaction  HourlyRate  \\\n",
              "0          2  Life Sciences                        2          94   \n",
              "1          1  Life Sciences                        3          61   \n",
              "2          2          Other                        4          92   \n",
              "3          4  Life Sciences                        4          56   \n",
              "4          1        Medical                        1          40   \n",
              "\n",
              "   JobInvolvement  ...  PerformanceRating RelationshipSatisfaction  \\\n",
              "0               3  ...                  3                        1   \n",
              "1               2  ...                  4                        4   \n",
              "2               2  ...                  3                        2   \n",
              "3               3  ...                  3                        3   \n",
              "4               3  ...                  3                        4   \n",
              "\n",
              "   StockOptionLevel TotalWorkingYears  TrainingTimesLastYear WorkLifeBalance  \\\n",
              "0                 0                 8                      0               1   \n",
              "1                 1                10                      3               3   \n",
              "2                 0                 7                      3               3   \n",
              "3                 0                 8                      3               3   \n",
              "4                 1                 6                      3               3   \n",
              "\n",
              "   YearsAtCompany  YearsInCurrentRole  YearsSinceLastPromotion  \\\n",
              "0               6                   4                        0   \n",
              "1              10                   7                        1   \n",
              "2               0                   0                        0   \n",
              "3               8                   7                        3   \n",
              "4               2                   2                        2   \n",
              "\n",
              "   YearsWithCurrManager  \n",
              "0                     5  \n",
              "1                     7  \n",
              "2                     0  \n",
              "3                     0  \n",
              "4                     2  \n",
              "\n",
              "[5 rows x 27 columns]"
            ]
          },
          "execution_count": 1,
          "metadata": {},
          "output_type": "execute_result"
        }
      ],
      "source": [
        "# Import our dependencies\n",
        "from sklearn.model_selection import train_test_split\n",
        "from sklearn.preprocessing import StandardScaler\n",
        "import pandas as pd\n",
        "import numpy as np\n",
        "from tensorflow.keras.models import Model\n",
        "from tensorflow.keras import layers\n",
        "\n",
        "#  Import and read the attrition data\n",
        "attrition_df = pd.read_csv('https://static.bc-edx.com/ai/ail-v-1-0/m19/lms/datasets/attrition.csv')\n",
        "attrition_df.head()"
      ]
    },
    {
      "cell_type": "code",
      "execution_count": 2,
      "metadata": {
        "colab": {
          "base_uri": "https://localhost:8080/"
        },
        "id": "g22aQSY4Gc3Q",
        "outputId": "1f5c13c1-b981-4e40-a7ed-dd3fe6f1b81e"
      },
      "outputs": [
        {
          "data": {
            "text/plain": [
              "Age                         43\n",
              "Attrition                    2\n",
              "BusinessTravel               3\n",
              "Department                   3\n",
              "DistanceFromHome            29\n",
              "Education                    5\n",
              "EducationField               6\n",
              "EnvironmentSatisfaction      4\n",
              "HourlyRate                  71\n",
              "JobInvolvement               4\n",
              "JobLevel                     5\n",
              "JobRole                      9\n",
              "JobSatisfaction              4\n",
              "MaritalStatus                3\n",
              "NumCompaniesWorked          10\n",
              "OverTime                     2\n",
              "PercentSalaryHike           15\n",
              "PerformanceRating            2\n",
              "RelationshipSatisfaction     4\n",
              "StockOptionLevel             4\n",
              "TotalWorkingYears           40\n",
              "TrainingTimesLastYear        7\n",
              "WorkLifeBalance              4\n",
              "YearsAtCompany              37\n",
              "YearsInCurrentRole          19\n",
              "YearsSinceLastPromotion     16\n",
              "YearsWithCurrManager        18\n",
              "dtype: int64"
            ]
          },
          "execution_count": 2,
          "metadata": {},
          "output_type": "execute_result"
        }
      ],
      "source": [
        "# Determine the number of unique values in each column.\n",
        "attrition_df.nunique()"
      ]
    },
    {
      "cell_type": "code",
      "execution_count": 3,
      "metadata": {
        "id": "50vMgBEnJbfM"
      },
      "outputs": [],
      "source": [
        "# Create y_df with the Attrition and Department columns\n",
        "y_df = attrition_df.loc[:, ['Attrition', 'Department']]"
      ]
    },
    {
      "cell_type": "code",
      "execution_count": 4,
      "metadata": {
        "colab": {
          "base_uri": "https://localhost:8080/"
        },
        "id": "Virka0zLGc3R",
        "outputId": "dd5aee3a-9458-4ba6-e857-1b234de40915"
      },
      "outputs": [
        {
          "name": "stdout",
          "output_type": "stream",
          "text": [
            "Education                   int64\n",
            "Age                         int64\n",
            "DistanceFromHome            int64\n",
            "JobSatisfaction             int64\n",
            "OverTime                   object\n",
            "StockOptionLevel            int64\n",
            "WorkLifeBalance             int64\n",
            "YearsAtCompany              int64\n",
            "YearsSinceLastPromotion     int64\n",
            "NumCompaniesWorked          int64\n",
            "dtype: object\n"
          ]
        }
      ],
      "source": [
        "# Create a list of at least 10 column names to use as X data\n",
        "columns_X = ['Education', 'Age', 'DistanceFromHome', 'JobSatisfaction', 'OverTime',\n",
        "             'StockOptionLevel', 'WorkLifeBalance', 'YearsAtCompany',\n",
        "             'YearsSinceLastPromotion', 'NumCompaniesWorked']\n",
        "\n",
        "# Create X_df using your selected columns\n",
        "X_df = attrition_df[columns_X]\n",
        "\n",
        "# Show the data types for X_df\n",
        "print(X_df.dtypes)"
      ]
    },
    {
      "cell_type": "code",
      "execution_count": 5,
      "metadata": {
        "id": "KaJfdOGUMHMR"
      },
      "outputs": [],
      "source": [
        "# Split the data into training and testing sets\n",
        "from sklearn.model_selection import train_test_split\n",
        "X_train, X_test, y_train, y_test = train_test_split(X_df, y_df, test_size=0.2, random_state=42)"
      ]
    },
    {
      "cell_type": "code",
      "execution_count": 6,
      "metadata": {
        "colab": {
          "base_uri": "https://localhost:8080/"
        },
        "id": "NYubUJqiLCSp",
        "outputId": "53f31721-571c-4c94-d13e-25a715749593"
      },
      "outputs": [],
      "source": [
        "# Convert your X data to numeric data types however you see fit\n",
        "# Add new code cells as necessary\n",
        "# The only column with non-numeric data is the OverTime column.  This can be converted with simple lambda function.\n",
        "X_train['OverTime'] = X_train['OverTime'].apply(lambda x: 1 if x == 'Yes' else 0)\n",
        "X_test['OverTime'] = X_test['OverTime'].apply(lambda x: 1 if x == 'Yes' else 0)\n"
      ]
    },
    {
      "cell_type": "code",
      "execution_count": 7,
      "metadata": {
        "id": "EWA-aIA5Gc3T"
      },
      "outputs": [],
      "source": [
        "# Create a StandardScaler\n",
        "scaler = StandardScaler()\n",
        "\n",
        "# Fit the StandardScaler to the training data\n",
        "scaler.fit(X_train)\n",
        "\n",
        "# Scale the training and testing data\n",
        "X_train_scaled = scaler.transform(X_train)\n",
        "X_test_scaled = scaler.transform(X_test)\n"
      ]
    },
    {
      "cell_type": "code",
      "execution_count": 8,
      "metadata": {
        "colab": {
          "base_uri": "https://localhost:8080/"
        },
        "id": "-z0Mky8vQSz4",
        "outputId": "debefc85-c20b-48f5-f4d9-91eadd65d36a"
      },
      "outputs": [],
      "source": [
        "from sklearn.preprocessing import OneHotEncoder\n",
        "# Create a OneHotEncoder for the Department column\n",
        "encoder_dep = OneHotEncoder(sparse_output=False)\n",
        "\n",
        "# Fit the encoder to the training data\n",
        "encoder_dep.fit(y_train[['Department']])\n",
        "\n",
        "# Create two new variables by applying the encoder\n",
        "# to the training and testing data\n",
        "y_train_department_encoded = encoder_dep.transform(y_train[['Department']])\n",
        "y_test_department_encoded = encoder_dep.transform(y_test[['Department']])"
      ]
    },
    {
      "cell_type": "code",
      "execution_count": 9,
      "metadata": {
        "colab": {
          "base_uri": "https://localhost:8080/"
        },
        "id": "-G4DSpvFRrk4",
        "outputId": "9842e948-8a55-4b80-8fac-f96714e85589"
      },
      "outputs": [],
      "source": [
        "# Create a OneHotEncoder for the Attrition column\n",
        "encoder_att = OneHotEncoder(sparse_output=False)\n",
        "\n",
        "# Fit the encoder to the training data\n",
        "encoder_att.fit(y_train[['Attrition']])\n",
        "\n",
        "# Create two new variables by applying the encoder\n",
        "# to the training and testing data\n",
        "y_train_attrition_encoded = encoder_att.transform(y_train[['Attrition']])\n",
        "y_test_attrition_encoded = encoder_att.transform(y_test[['Attrition']])\n"
      ]
    },
    {
      "cell_type": "markdown",
      "metadata": {
        "id": "ykNmu_WWGc3T"
      },
      "source": [
        "## Create, Compile, and Train the Model"
      ]
    },
    {
      "cell_type": "code",
      "execution_count": 10,
      "metadata": {
        "id": "WUptZqmSGc3T"
      },
      "outputs": [],
      "source": [
        "from tensorflow.keras.layers import Input, Dense\n",
        "from tensorflow.keras.optimizers import Adam\n",
        "# Find the number of columns in the X training data\n",
        "num_columns = X_train.shape[1]\n",
        "\n",
        "# Create the input layer\n",
        "input_layer = Input(shape=(num_columns,), name='input')\n",
        "\n",
        "# Create at least two shared layers\n",
        "shared_layer_1 = Dense(64, activation='relu', name='shared1')(input_layer)\n",
        "shared_layer_2 = Dense(128, activation='relu', name='shared2')(shared_layer_1)"
      ]
    },
    {
      "cell_type": "code",
      "execution_count": 11,
      "metadata": {
        "id": "JukjTm2yTEqd"
      },
      "outputs": [],
      "source": [
        "# Create a branch for Department\n",
        "# with a hidden layer and an output layer\n",
        "department_hidden = Dense(32, activation='relu', name='department_hidden')(shared_layer_2)\n",
        "department_output = Dense(3, activation='softmax', name='department_output')(department_hidden)"
      ]
    },
    {
      "cell_type": "code",
      "execution_count": 12,
      "metadata": {
        "id": "9OqhUiOJUBkR"
      },
      "outputs": [],
      "source": [
        "# Create a branch for Attrition\n",
        "# with a hidden layer and an output layer\n",
        "attrition_hidden = Dense(32, activation='relu', name='attrition_hidden')(shared_layer_2)\n",
        "attrition_output = Dense(2, activation='sigmoid', name='attrition_output')(attrition_hidden)"
      ]
    },
    {
      "cell_type": "code",
      "execution_count": 13,
      "metadata": {
        "colab": {
          "base_uri": "https://localhost:8080/"
        },
        "id": "twmuejdxGc3T",
        "outputId": "25096308-b68b-42e4-e4ea-ae82e97c435a"
      },
      "outputs": [
        {
          "name": "stdout",
          "output_type": "stream",
          "text": [
            "Model: \"model\"\n",
            "__________________________________________________________________________________________________\n",
            " Layer (type)                Output Shape                 Param #   Connected to                  \n",
            "==================================================================================================\n",
            " input (InputLayer)          [(None, 10)]                 0         []                            \n",
            "                                                                                                  \n",
            " shared1 (Dense)             (None, 64)                   704       ['input[0][0]']               \n",
            "                                                                                                  \n",
            " shared2 (Dense)             (None, 128)                  8320      ['shared1[0][0]']             \n",
            "                                                                                                  \n",
            " department_hidden (Dense)   (None, 32)                   4128      ['shared2[0][0]']             \n",
            "                                                                                                  \n",
            " attrition_hidden (Dense)    (None, 32)                   4128      ['shared2[0][0]']             \n",
            "                                                                                                  \n",
            " department_output (Dense)   (None, 3)                    99        ['department_hidden[0][0]']   \n",
            "                                                                                                  \n",
            " attrition_output (Dense)    (None, 2)                    66        ['attrition_hidden[0][0]']    \n",
            "                                                                                                  \n",
            "==================================================================================================\n",
            "Total params: 17445 (68.14 KB)\n",
            "Trainable params: 17445 (68.14 KB)\n",
            "Non-trainable params: 0 (0.00 Byte)\n",
            "__________________________________________________________________________________________________\n"
          ]
        }
      ],
      "source": [
        "# Create the model\n",
        "model = Model(inputs=input_layer, outputs=[department_output, attrition_output])\n",
        "\n",
        "# Compile the model\n",
        "model.compile(optimizer=Adam(learning_rate=0.001),\n",
        "              loss={'department_output': 'categorical_crossentropy',\n",
        "                    'attrition_output': 'categorical_crossentropy'},\n",
        "              metrics={'department_output': 'accuracy',\n",
        "                       'attrition_output': 'accuracy'})\n",
        "\n",
        "# Summarize the model\n",
        "model.summary()"
      ]
    },
    {
      "cell_type": "code",
      "execution_count": 14,
      "metadata": {
        "colab": {
          "base_uri": "https://localhost:8080/"
        },
        "id": "c8oGy0dpGc3U",
        "outputId": "cc667d43-28cf-42d4-d719-c2bc02888d30"
      },
      "outputs": [
        {
          "name": "stdout",
          "output_type": "stream",
          "text": [
            "Epoch 1/100\n",
            "37/37 [==============================] - 1s 5ms/step - loss: 1.3227 - department_output_loss: 0.8269 - attrition_output_loss: 0.4958 - department_output_accuracy: 0.6497 - attrition_output_accuracy: 0.8240 - val_loss: 1.1743 - val_department_output_loss: 0.7891 - val_attrition_output_loss: 0.3852 - val_department_output_accuracy: 0.6667 - val_attrition_output_accuracy: 0.8673\n",
            "Epoch 2/100\n",
            "37/37 [==============================] - 0s 1ms/step - loss: 1.1830 - department_output_loss: 0.7744 - attrition_output_loss: 0.4085 - department_output_accuracy: 0.6505 - attrition_output_accuracy: 0.8367 - val_loss: 1.1571 - val_department_output_loss: 0.7895 - val_attrition_output_loss: 0.3675 - val_department_output_accuracy: 0.6667 - val_attrition_output_accuracy: 0.8741\n",
            "Epoch 3/100\n",
            "37/37 [==============================] - 0s 2ms/step - loss: 1.1455 - department_output_loss: 0.7653 - attrition_output_loss: 0.3802 - department_output_accuracy: 0.6505 - attrition_output_accuracy: 0.8469 - val_loss: 1.1640 - val_department_output_loss: 0.7971 - val_attrition_output_loss: 0.3669 - val_department_output_accuracy: 0.6667 - val_attrition_output_accuracy: 0.8707\n",
            "Epoch 4/100\n",
            "37/37 [==============================] - 0s 1ms/step - loss: 1.1240 - department_output_loss: 0.7560 - attrition_output_loss: 0.3680 - department_output_accuracy: 0.6522 - attrition_output_accuracy: 0.8520 - val_loss: 1.1536 - val_department_output_loss: 0.7909 - val_attrition_output_loss: 0.3627 - val_department_output_accuracy: 0.6667 - val_attrition_output_accuracy: 0.8741\n",
            "Epoch 5/100\n",
            "37/37 [==============================] - 0s 1ms/step - loss: 1.1069 - department_output_loss: 0.7510 - attrition_output_loss: 0.3559 - department_output_accuracy: 0.6531 - attrition_output_accuracy: 0.8563 - val_loss: 1.1624 - val_department_output_loss: 0.7957 - val_attrition_output_loss: 0.3667 - val_department_output_accuracy: 0.6667 - val_attrition_output_accuracy: 0.8639\n",
            "Epoch 6/100\n",
            "37/37 [==============================] - 0s 1ms/step - loss: 1.0847 - department_output_loss: 0.7418 - attrition_output_loss: 0.3429 - department_output_accuracy: 0.6548 - attrition_output_accuracy: 0.8622 - val_loss: 1.1662 - val_department_output_loss: 0.7977 - val_attrition_output_loss: 0.3685 - val_department_output_accuracy: 0.6667 - val_attrition_output_accuracy: 0.8741\n",
            "Epoch 7/100\n",
            "37/37 [==============================] - 0s 1ms/step - loss: 1.0667 - department_output_loss: 0.7327 - attrition_output_loss: 0.3340 - department_output_accuracy: 0.6616 - attrition_output_accuracy: 0.8648 - val_loss: 1.1725 - val_department_output_loss: 0.8018 - val_attrition_output_loss: 0.3707 - val_department_output_accuracy: 0.6667 - val_attrition_output_accuracy: 0.8639\n",
            "Epoch 8/100\n",
            "37/37 [==============================] - 0s 1ms/step - loss: 1.0517 - department_output_loss: 0.7268 - attrition_output_loss: 0.3249 - department_output_accuracy: 0.6624 - attrition_output_accuracy: 0.8724 - val_loss: 1.1728 - val_department_output_loss: 0.8037 - val_attrition_output_loss: 0.3690 - val_department_output_accuracy: 0.6599 - val_attrition_output_accuracy: 0.8673\n",
            "Epoch 9/100\n",
            "37/37 [==============================] - 0s 1ms/step - loss: 1.0340 - department_output_loss: 0.7174 - attrition_output_loss: 0.3167 - department_output_accuracy: 0.6650 - attrition_output_accuracy: 0.8776 - val_loss: 1.1841 - val_department_output_loss: 0.8112 - val_attrition_output_loss: 0.3729 - val_department_output_accuracy: 0.6531 - val_attrition_output_accuracy: 0.8673\n",
            "Epoch 10/100\n",
            "37/37 [==============================] - 0s 1ms/step - loss: 1.0127 - department_output_loss: 0.7074 - attrition_output_loss: 0.3053 - department_output_accuracy: 0.6709 - attrition_output_accuracy: 0.8793 - val_loss: 1.1958 - val_department_output_loss: 0.8182 - val_attrition_output_loss: 0.3776 - val_department_output_accuracy: 0.6463 - val_attrition_output_accuracy: 0.8639\n",
            "Epoch 11/100\n",
            "37/37 [==============================] - 0s 1ms/step - loss: 0.9936 - department_output_loss: 0.6966 - attrition_output_loss: 0.2969 - department_output_accuracy: 0.6709 - attrition_output_accuracy: 0.8844 - val_loss: 1.2088 - val_department_output_loss: 0.8163 - val_attrition_output_loss: 0.3924 - val_department_output_accuracy: 0.6463 - val_attrition_output_accuracy: 0.8741\n",
            "Epoch 12/100\n",
            "37/37 [==============================] - 0s 1ms/step - loss: 0.9757 - department_output_loss: 0.6871 - attrition_output_loss: 0.2886 - department_output_accuracy: 0.6854 - attrition_output_accuracy: 0.8903 - val_loss: 1.2044 - val_department_output_loss: 0.8219 - val_attrition_output_loss: 0.3825 - val_department_output_accuracy: 0.6497 - val_attrition_output_accuracy: 0.8707\n",
            "Epoch 13/100\n",
            "37/37 [==============================] - 0s 1ms/step - loss: 0.9612 - department_output_loss: 0.6774 - attrition_output_loss: 0.2839 - department_output_accuracy: 0.6896 - attrition_output_accuracy: 0.8827 - val_loss: 1.2377 - val_department_output_loss: 0.8429 - val_attrition_output_loss: 0.3949 - val_department_output_accuracy: 0.6565 - val_attrition_output_accuracy: 0.8707\n",
            "Epoch 14/100\n",
            "37/37 [==============================] - 0s 1ms/step - loss: 0.9416 - department_output_loss: 0.6672 - attrition_output_loss: 0.2744 - department_output_accuracy: 0.7015 - attrition_output_accuracy: 0.8929 - val_loss: 1.2492 - val_department_output_loss: 0.8498 - val_attrition_output_loss: 0.3993 - val_department_output_accuracy: 0.6463 - val_attrition_output_accuracy: 0.8571\n",
            "Epoch 15/100\n",
            "37/37 [==============================] - 0s 1ms/step - loss: 0.9211 - department_output_loss: 0.6527 - attrition_output_loss: 0.2685 - department_output_accuracy: 0.7075 - attrition_output_accuracy: 0.8861 - val_loss: 1.2625 - val_department_output_loss: 0.8497 - val_attrition_output_loss: 0.4128 - val_department_output_accuracy: 0.6429 - val_attrition_output_accuracy: 0.8707\n",
            "Epoch 16/100\n",
            "37/37 [==============================] - 0s 1ms/step - loss: 0.9002 - department_output_loss: 0.6419 - attrition_output_loss: 0.2583 - department_output_accuracy: 0.7066 - attrition_output_accuracy: 0.9031 - val_loss: 1.2731 - val_department_output_loss: 0.8666 - val_attrition_output_loss: 0.4065 - val_department_output_accuracy: 0.5578 - val_attrition_output_accuracy: 0.8810\n",
            "Epoch 17/100\n",
            "37/37 [==============================] - 0s 1ms/step - loss: 0.8922 - department_output_loss: 0.6341 - attrition_output_loss: 0.2582 - department_output_accuracy: 0.7279 - attrition_output_accuracy: 0.8988 - val_loss: 1.3000 - val_department_output_loss: 0.8671 - val_attrition_output_loss: 0.4329 - val_department_output_accuracy: 0.6327 - val_attrition_output_accuracy: 0.8571\n",
            "Epoch 18/100\n",
            "37/37 [==============================] - 0s 1ms/step - loss: 0.8591 - department_output_loss: 0.6162 - attrition_output_loss: 0.2429 - department_output_accuracy: 0.7211 - attrition_output_accuracy: 0.8997 - val_loss: 1.3318 - val_department_output_loss: 0.8942 - val_attrition_output_loss: 0.4376 - val_department_output_accuracy: 0.5850 - val_attrition_output_accuracy: 0.8639\n",
            "Epoch 19/100\n",
            "37/37 [==============================] - 0s 1ms/step - loss: 0.8454 - department_output_loss: 0.6106 - attrition_output_loss: 0.2347 - department_output_accuracy: 0.7211 - attrition_output_accuracy: 0.9133 - val_loss: 1.3440 - val_department_output_loss: 0.8909 - val_attrition_output_loss: 0.4530 - val_department_output_accuracy: 0.5952 - val_attrition_output_accuracy: 0.8537\n",
            "Epoch 20/100\n",
            "37/37 [==============================] - 0s 1ms/step - loss: 0.8136 - department_output_loss: 0.5838 - attrition_output_loss: 0.2298 - department_output_accuracy: 0.7432 - attrition_output_accuracy: 0.9065 - val_loss: 1.3721 - val_department_output_loss: 0.9205 - val_attrition_output_loss: 0.4517 - val_department_output_accuracy: 0.6259 - val_attrition_output_accuracy: 0.8707\n",
            "Epoch 21/100\n",
            "37/37 [==============================] - 0s 1ms/step - loss: 0.8009 - department_output_loss: 0.5831 - attrition_output_loss: 0.2178 - department_output_accuracy: 0.7577 - attrition_output_accuracy: 0.9167 - val_loss: 1.4032 - val_department_output_loss: 0.9221 - val_attrition_output_loss: 0.4811 - val_department_output_accuracy: 0.5850 - val_attrition_output_accuracy: 0.8537\n",
            "Epoch 22/100\n",
            "37/37 [==============================] - 0s 1ms/step - loss: 0.7758 - department_output_loss: 0.5628 - attrition_output_loss: 0.2131 - department_output_accuracy: 0.7526 - attrition_output_accuracy: 0.9175 - val_loss: 1.3812 - val_department_output_loss: 0.9099 - val_attrition_output_loss: 0.4713 - val_department_output_accuracy: 0.6190 - val_attrition_output_accuracy: 0.8605\n",
            "Epoch 23/100\n",
            "37/37 [==============================] - 0s 1ms/step - loss: 0.7542 - department_output_loss: 0.5465 - attrition_output_loss: 0.2076 - department_output_accuracy: 0.7619 - attrition_output_accuracy: 0.9201 - val_loss: 1.4681 - val_department_output_loss: 0.9661 - val_attrition_output_loss: 0.5020 - val_department_output_accuracy: 0.5782 - val_attrition_output_accuracy: 0.8537\n",
            "Epoch 24/100\n",
            "37/37 [==============================] - 0s 1ms/step - loss: 0.7291 - department_output_loss: 0.5373 - attrition_output_loss: 0.1917 - department_output_accuracy: 0.7730 - attrition_output_accuracy: 0.9311 - val_loss: 1.5010 - val_department_output_loss: 0.9795 - val_attrition_output_loss: 0.5216 - val_department_output_accuracy: 0.5578 - val_attrition_output_accuracy: 0.8571\n",
            "Epoch 25/100\n",
            "37/37 [==============================] - 0s 1ms/step - loss: 0.7160 - department_output_loss: 0.5191 - attrition_output_loss: 0.1969 - department_output_accuracy: 0.7772 - attrition_output_accuracy: 0.9226 - val_loss: 1.5053 - val_department_output_loss: 0.9817 - val_attrition_output_loss: 0.5236 - val_department_output_accuracy: 0.5952 - val_attrition_output_accuracy: 0.8673\n",
            "Epoch 26/100\n",
            "37/37 [==============================] - 0s 1ms/step - loss: 0.6894 - department_output_loss: 0.5089 - attrition_output_loss: 0.1805 - department_output_accuracy: 0.7738 - attrition_output_accuracy: 0.9371 - val_loss: 1.5155 - val_department_output_loss: 0.9813 - val_attrition_output_loss: 0.5342 - val_department_output_accuracy: 0.6020 - val_attrition_output_accuracy: 0.8639\n",
            "Epoch 27/100\n",
            "37/37 [==============================] - 0s 1ms/step - loss: 0.6611 - department_output_loss: 0.4831 - attrition_output_loss: 0.1780 - department_output_accuracy: 0.8053 - attrition_output_accuracy: 0.9371 - val_loss: 1.5882 - val_department_output_loss: 1.0078 - val_attrition_output_loss: 0.5805 - val_department_output_accuracy: 0.5816 - val_attrition_output_accuracy: 0.8095\n",
            "Epoch 28/100\n",
            "37/37 [==============================] - 0s 1ms/step - loss: 0.6416 - department_output_loss: 0.4709 - attrition_output_loss: 0.1706 - department_output_accuracy: 0.7976 - attrition_output_accuracy: 0.9354 - val_loss: 1.5860 - val_department_output_loss: 1.0283 - val_attrition_output_loss: 0.5577 - val_department_output_accuracy: 0.5952 - val_attrition_output_accuracy: 0.8435\n",
            "Epoch 29/100\n",
            "37/37 [==============================] - 0s 1ms/step - loss: 0.6228 - department_output_loss: 0.4596 - attrition_output_loss: 0.1633 - department_output_accuracy: 0.7993 - attrition_output_accuracy: 0.9379 - val_loss: 1.6196 - val_department_output_loss: 1.0369 - val_attrition_output_loss: 0.5827 - val_department_output_accuracy: 0.5816 - val_attrition_output_accuracy: 0.8639\n",
            "Epoch 30/100\n",
            "37/37 [==============================] - 0s 1ms/step - loss: 0.5944 - department_output_loss: 0.4408 - attrition_output_loss: 0.1536 - department_output_accuracy: 0.8223 - attrition_output_accuracy: 0.9481 - val_loss: 1.6305 - val_department_output_loss: 1.0264 - val_attrition_output_loss: 0.6041 - val_department_output_accuracy: 0.5714 - val_attrition_output_accuracy: 0.8129\n",
            "Epoch 31/100\n",
            "37/37 [==============================] - 0s 1ms/step - loss: 0.6103 - department_output_loss: 0.4587 - attrition_output_loss: 0.1515 - department_output_accuracy: 0.8044 - attrition_output_accuracy: 0.9456 - val_loss: 1.6862 - val_department_output_loss: 1.0544 - val_attrition_output_loss: 0.6317 - val_department_output_accuracy: 0.5816 - val_attrition_output_accuracy: 0.8435\n",
            "Epoch 32/100\n",
            "37/37 [==============================] - 0s 1ms/step - loss: 0.5619 - department_output_loss: 0.4171 - attrition_output_loss: 0.1448 - department_output_accuracy: 0.8265 - attrition_output_accuracy: 0.9490 - val_loss: 1.7423 - val_department_output_loss: 1.1195 - val_attrition_output_loss: 0.6228 - val_department_output_accuracy: 0.5986 - val_attrition_output_accuracy: 0.8537\n",
            "Epoch 33/100\n",
            "37/37 [==============================] - 0s 1ms/step - loss: 0.5348 - department_output_loss: 0.4024 - attrition_output_loss: 0.1324 - department_output_accuracy: 0.8299 - attrition_output_accuracy: 0.9583 - val_loss: 1.7711 - val_department_output_loss: 1.1225 - val_attrition_output_loss: 0.6486 - val_department_output_accuracy: 0.5646 - val_attrition_output_accuracy: 0.8367\n",
            "Epoch 34/100\n",
            "37/37 [==============================] - 0s 1ms/step - loss: 0.5248 - department_output_loss: 0.3929 - attrition_output_loss: 0.1319 - department_output_accuracy: 0.8308 - attrition_output_accuracy: 0.9507 - val_loss: 1.8064 - val_department_output_loss: 1.1371 - val_attrition_output_loss: 0.6694 - val_department_output_accuracy: 0.5578 - val_attrition_output_accuracy: 0.8333\n",
            "Epoch 35/100\n",
            "37/37 [==============================] - 0s 1ms/step - loss: 0.5081 - department_output_loss: 0.3847 - attrition_output_loss: 0.1234 - department_output_accuracy: 0.8495 - attrition_output_accuracy: 0.9626 - val_loss: 1.8178 - val_department_output_loss: 1.1513 - val_attrition_output_loss: 0.6665 - val_department_output_accuracy: 0.5476 - val_attrition_output_accuracy: 0.8333\n",
            "Epoch 36/100\n",
            "37/37 [==============================] - 0s 1ms/step - loss: 0.4725 - department_output_loss: 0.3543 - attrition_output_loss: 0.1182 - department_output_accuracy: 0.8656 - attrition_output_accuracy: 0.9583 - val_loss: 1.9097 - val_department_output_loss: 1.1832 - val_attrition_output_loss: 0.7265 - val_department_output_accuracy: 0.5850 - val_attrition_output_accuracy: 0.7891\n",
            "Epoch 37/100\n",
            "37/37 [==============================] - 0s 1ms/step - loss: 0.4532 - department_output_loss: 0.3385 - attrition_output_loss: 0.1147 - department_output_accuracy: 0.8716 - attrition_output_accuracy: 0.9592 - val_loss: 1.9410 - val_department_output_loss: 1.2202 - val_attrition_output_loss: 0.7208 - val_department_output_accuracy: 0.5714 - val_attrition_output_accuracy: 0.8333\n",
            "Epoch 38/100\n",
            "37/37 [==============================] - 0s 1ms/step - loss: 0.4442 - department_output_loss: 0.3424 - attrition_output_loss: 0.1017 - department_output_accuracy: 0.8724 - attrition_output_accuracy: 0.9736 - val_loss: 1.9360 - val_department_output_loss: 1.2202 - val_attrition_output_loss: 0.7158 - val_department_output_accuracy: 0.5714 - val_attrition_output_accuracy: 0.8435\n",
            "Epoch 39/100\n",
            "37/37 [==============================] - 0s 1ms/step - loss: 0.4140 - department_output_loss: 0.3156 - attrition_output_loss: 0.0983 - department_output_accuracy: 0.8844 - attrition_output_accuracy: 0.9694 - val_loss: 2.1124 - val_department_output_loss: 1.3027 - val_attrition_output_loss: 0.8097 - val_department_output_accuracy: 0.5680 - val_attrition_output_accuracy: 0.7653\n",
            "Epoch 40/100\n",
            "37/37 [==============================] - 0s 1ms/step - loss: 0.4048 - department_output_loss: 0.3043 - attrition_output_loss: 0.1005 - department_output_accuracy: 0.9014 - attrition_output_accuracy: 0.9651 - val_loss: 2.1389 - val_department_output_loss: 1.3386 - val_attrition_output_loss: 0.8003 - val_department_output_accuracy: 0.6088 - val_attrition_output_accuracy: 0.7993\n",
            "Epoch 41/100\n",
            "37/37 [==============================] - 0s 1ms/step - loss: 0.3821 - department_output_loss: 0.2944 - attrition_output_loss: 0.0877 - department_output_accuracy: 0.8946 - attrition_output_accuracy: 0.9787 - val_loss: 2.1373 - val_department_output_loss: 1.3549 - val_attrition_output_loss: 0.7824 - val_department_output_accuracy: 0.5918 - val_attrition_output_accuracy: 0.8265\n",
            "Epoch 42/100\n",
            "37/37 [==============================] - 0s 1ms/step - loss: 0.3828 - department_output_loss: 0.2955 - attrition_output_loss: 0.0874 - department_output_accuracy: 0.9014 - attrition_output_accuracy: 0.9736 - val_loss: 2.1634 - val_department_output_loss: 1.3602 - val_attrition_output_loss: 0.8032 - val_department_output_accuracy: 0.5782 - val_attrition_output_accuracy: 0.8265\n",
            "Epoch 43/100\n",
            "37/37 [==============================] - 0s 1ms/step - loss: 0.3803 - department_output_loss: 0.2991 - attrition_output_loss: 0.0811 - department_output_accuracy: 0.8903 - attrition_output_accuracy: 0.9745 - val_loss: 2.1962 - val_department_output_loss: 1.3639 - val_attrition_output_loss: 0.8323 - val_department_output_accuracy: 0.5850 - val_attrition_output_accuracy: 0.8435\n",
            "Epoch 44/100\n",
            "37/37 [==============================] - 0s 1ms/step - loss: 0.3559 - department_output_loss: 0.2683 - attrition_output_loss: 0.0877 - department_output_accuracy: 0.9005 - attrition_output_accuracy: 0.9702 - val_loss: 2.2573 - val_department_output_loss: 1.4336 - val_attrition_output_loss: 0.8237 - val_department_output_accuracy: 0.5680 - val_attrition_output_accuracy: 0.8197\n",
            "Epoch 45/100\n",
            "37/37 [==============================] - 0s 1ms/step - loss: 0.3296 - department_output_loss: 0.2536 - attrition_output_loss: 0.0760 - department_output_accuracy: 0.9099 - attrition_output_accuracy: 0.9779 - val_loss: 2.3951 - val_department_output_loss: 1.4693 - val_attrition_output_loss: 0.9258 - val_department_output_accuracy: 0.4966 - val_attrition_output_accuracy: 0.7687\n",
            "Epoch 46/100\n",
            "37/37 [==============================] - 0s 1ms/step - loss: 0.3183 - department_output_loss: 0.2453 - attrition_output_loss: 0.0730 - department_output_accuracy: 0.9184 - attrition_output_accuracy: 0.9847 - val_loss: 2.3970 - val_department_output_loss: 1.5165 - val_attrition_output_loss: 0.8805 - val_department_output_accuracy: 0.5748 - val_attrition_output_accuracy: 0.8197\n",
            "Epoch 47/100\n",
            "37/37 [==============================] - 0s 1ms/step - loss: 0.3083 - department_output_loss: 0.2406 - attrition_output_loss: 0.0677 - department_output_accuracy: 0.9209 - attrition_output_accuracy: 0.9855 - val_loss: 2.4530 - val_department_output_loss: 1.5206 - val_attrition_output_loss: 0.9324 - val_department_output_accuracy: 0.5408 - val_attrition_output_accuracy: 0.7789\n",
            "Epoch 48/100\n",
            "37/37 [==============================] - 0s 1ms/step - loss: 0.2844 - department_output_loss: 0.2236 - attrition_output_loss: 0.0608 - department_output_accuracy: 0.9269 - attrition_output_accuracy: 0.9864 - val_loss: 2.4699 - val_department_output_loss: 1.5501 - val_attrition_output_loss: 0.9197 - val_department_output_accuracy: 0.5136 - val_attrition_output_accuracy: 0.8197\n",
            "Epoch 49/100\n",
            "37/37 [==============================] - 0s 1ms/step - loss: 0.2709 - department_output_loss: 0.2151 - attrition_output_loss: 0.0558 - department_output_accuracy: 0.9277 - attrition_output_accuracy: 0.9881 - val_loss: 2.5497 - val_department_output_loss: 1.5864 - val_attrition_output_loss: 0.9634 - val_department_output_accuracy: 0.5578 - val_attrition_output_accuracy: 0.7891\n",
            "Epoch 50/100\n",
            "37/37 [==============================] - 0s 1ms/step - loss: 0.2580 - department_output_loss: 0.2005 - attrition_output_loss: 0.0575 - department_output_accuracy: 0.9447 - attrition_output_accuracy: 0.9855 - val_loss: 2.5717 - val_department_output_loss: 1.5940 - val_attrition_output_loss: 0.9777 - val_department_output_accuracy: 0.5850 - val_attrition_output_accuracy: 0.8163\n",
            "Epoch 51/100\n",
            "37/37 [==============================] - 0s 1ms/step - loss: 0.2674 - department_output_loss: 0.2095 - attrition_output_loss: 0.0579 - department_output_accuracy: 0.9362 - attrition_output_accuracy: 0.9864 - val_loss: 2.6257 - val_department_output_loss: 1.6170 - val_attrition_output_loss: 1.0087 - val_department_output_accuracy: 0.5578 - val_attrition_output_accuracy: 0.8129\n",
            "Epoch 52/100\n",
            "37/37 [==============================] - 0s 1ms/step - loss: 0.2375 - department_output_loss: 0.1844 - attrition_output_loss: 0.0531 - department_output_accuracy: 0.9490 - attrition_output_accuracy: 0.9898 - val_loss: 2.6828 - val_department_output_loss: 1.6799 - val_attrition_output_loss: 1.0029 - val_department_output_accuracy: 0.5578 - val_attrition_output_accuracy: 0.8129\n",
            "Epoch 53/100\n",
            "37/37 [==============================] - 0s 1ms/step - loss: 0.2306 - department_output_loss: 0.1829 - attrition_output_loss: 0.0478 - department_output_accuracy: 0.9524 - attrition_output_accuracy: 0.9923 - val_loss: 2.7467 - val_department_output_loss: 1.6929 - val_attrition_output_loss: 1.0538 - val_department_output_accuracy: 0.5714 - val_attrition_output_accuracy: 0.7993\n",
            "Epoch 54/100\n",
            "37/37 [==============================] - 0s 1ms/step - loss: 0.2323 - department_output_loss: 0.1861 - attrition_output_loss: 0.0462 - department_output_accuracy: 0.9464 - attrition_output_accuracy: 0.9898 - val_loss: 2.8273 - val_department_output_loss: 1.7496 - val_attrition_output_loss: 1.0777 - val_department_output_accuracy: 0.5204 - val_attrition_output_accuracy: 0.7551\n",
            "Epoch 55/100\n",
            "37/37 [==============================] - 0s 1ms/step - loss: 0.2210 - department_output_loss: 0.1751 - attrition_output_loss: 0.0458 - department_output_accuracy: 0.9498 - attrition_output_accuracy: 0.9881 - val_loss: 2.8305 - val_department_output_loss: 1.7566 - val_attrition_output_loss: 1.0739 - val_department_output_accuracy: 0.5578 - val_attrition_output_accuracy: 0.7755\n",
            "Epoch 56/100\n",
            "37/37 [==============================] - 0s 1ms/step - loss: 0.2120 - department_output_loss: 0.1578 - attrition_output_loss: 0.0542 - department_output_accuracy: 0.9583 - attrition_output_accuracy: 0.9838 - val_loss: 2.8631 - val_department_output_loss: 1.7669 - val_attrition_output_loss: 1.0962 - val_department_output_accuracy: 0.5510 - val_attrition_output_accuracy: 0.7857\n",
            "Epoch 57/100\n",
            "37/37 [==============================] - 0s 1ms/step - loss: 0.2046 - department_output_loss: 0.1602 - attrition_output_loss: 0.0444 - department_output_accuracy: 0.9524 - attrition_output_accuracy: 0.9898 - val_loss: 3.0136 - val_department_output_loss: 1.9111 - val_attrition_output_loss: 1.1025 - val_department_output_accuracy: 0.5816 - val_attrition_output_accuracy: 0.7959\n",
            "Epoch 58/100\n",
            "37/37 [==============================] - 0s 1ms/step - loss: 0.2317 - department_output_loss: 0.1866 - attrition_output_loss: 0.0451 - department_output_accuracy: 0.9345 - attrition_output_accuracy: 0.9864 - val_loss: 3.0607 - val_department_output_loss: 1.9447 - val_attrition_output_loss: 1.1159 - val_department_output_accuracy: 0.5884 - val_attrition_output_accuracy: 0.8163\n",
            "Epoch 59/100\n",
            "37/37 [==============================] - 0s 1ms/step - loss: 0.2406 - department_output_loss: 0.2031 - attrition_output_loss: 0.0375 - department_output_accuracy: 0.9226 - attrition_output_accuracy: 0.9923 - val_loss: 3.0019 - val_department_output_loss: 1.8689 - val_attrition_output_loss: 1.1330 - val_department_output_accuracy: 0.5612 - val_attrition_output_accuracy: 0.7959\n",
            "Epoch 60/100\n",
            "37/37 [==============================] - 0s 1ms/step - loss: 0.2102 - department_output_loss: 0.1768 - attrition_output_loss: 0.0334 - department_output_accuracy: 0.9413 - attrition_output_accuracy: 0.9932 - val_loss: 3.1793 - val_department_output_loss: 2.0190 - val_attrition_output_loss: 1.1603 - val_department_output_accuracy: 0.5136 - val_attrition_output_accuracy: 0.8027\n",
            "Epoch 61/100\n",
            "37/37 [==============================] - 0s 1ms/step - loss: 0.1821 - department_output_loss: 0.1459 - attrition_output_loss: 0.0362 - department_output_accuracy: 0.9600 - attrition_output_accuracy: 0.9906 - val_loss: 3.1023 - val_department_output_loss: 1.9051 - val_attrition_output_loss: 1.1972 - val_department_output_accuracy: 0.5408 - val_attrition_output_accuracy: 0.7789\n",
            "Epoch 62/100\n",
            "37/37 [==============================] - 0s 1ms/step - loss: 0.1629 - department_output_loss: 0.1339 - attrition_output_loss: 0.0290 - department_output_accuracy: 0.9643 - attrition_output_accuracy: 0.9932 - val_loss: 3.0990 - val_department_output_loss: 1.9237 - val_attrition_output_loss: 1.1753 - val_department_output_accuracy: 0.5000 - val_attrition_output_accuracy: 0.8129\n",
            "Epoch 63/100\n",
            "37/37 [==============================] - 0s 1ms/step - loss: 0.1546 - department_output_loss: 0.1189 - attrition_output_loss: 0.0357 - department_output_accuracy: 0.9736 - attrition_output_accuracy: 0.9915 - val_loss: 3.1511 - val_department_output_loss: 1.9398 - val_attrition_output_loss: 1.2113 - val_department_output_accuracy: 0.5408 - val_attrition_output_accuracy: 0.8197\n",
            "Epoch 64/100\n",
            "37/37 [==============================] - 0s 1ms/step - loss: 0.1481 - department_output_loss: 0.1158 - attrition_output_loss: 0.0323 - department_output_accuracy: 0.9685 - attrition_output_accuracy: 0.9915 - val_loss: 3.2863 - val_department_output_loss: 2.0361 - val_attrition_output_loss: 1.2502 - val_department_output_accuracy: 0.5544 - val_attrition_output_accuracy: 0.8129\n",
            "Epoch 65/100\n",
            "37/37 [==============================] - 0s 1ms/step - loss: 0.1382 - department_output_loss: 0.1103 - attrition_output_loss: 0.0279 - department_output_accuracy: 0.9787 - attrition_output_accuracy: 0.9957 - val_loss: 3.3601 - val_department_output_loss: 2.0379 - val_attrition_output_loss: 1.3222 - val_department_output_accuracy: 0.5612 - val_attrition_output_accuracy: 0.7449\n",
            "Epoch 66/100\n",
            "37/37 [==============================] - 0s 1ms/step - loss: 0.1408 - department_output_loss: 0.1087 - attrition_output_loss: 0.0320 - department_output_accuracy: 0.9753 - attrition_output_accuracy: 0.9923 - val_loss: 3.3019 - val_department_output_loss: 2.0365 - val_attrition_output_loss: 1.2653 - val_department_output_accuracy: 0.5544 - val_attrition_output_accuracy: 0.8027\n",
            "Epoch 67/100\n",
            "37/37 [==============================] - 0s 1ms/step - loss: 0.1551 - department_output_loss: 0.1097 - attrition_output_loss: 0.0454 - department_output_accuracy: 0.9770 - attrition_output_accuracy: 0.9830 - val_loss: 3.3941 - val_department_output_loss: 2.0877 - val_attrition_output_loss: 1.3064 - val_department_output_accuracy: 0.5306 - val_attrition_output_accuracy: 0.7585\n",
            "Epoch 68/100\n",
            "37/37 [==============================] - 0s 1ms/step - loss: 0.1468 - department_output_loss: 0.1041 - attrition_output_loss: 0.0427 - department_output_accuracy: 0.9753 - attrition_output_accuracy: 0.9872 - val_loss: 3.5241 - val_department_output_loss: 2.1939 - val_attrition_output_loss: 1.3303 - val_department_output_accuracy: 0.5578 - val_attrition_output_accuracy: 0.7653\n",
            "Epoch 69/100\n",
            "37/37 [==============================] - 0s 1ms/step - loss: 0.1548 - department_output_loss: 0.1056 - attrition_output_loss: 0.0491 - department_output_accuracy: 0.9719 - attrition_output_accuracy: 0.9830 - val_loss: 3.4984 - val_department_output_loss: 2.2003 - val_attrition_output_loss: 1.2982 - val_department_output_accuracy: 0.5782 - val_attrition_output_accuracy: 0.7891\n",
            "Epoch 70/100\n",
            "37/37 [==============================] - 0s 1ms/step - loss: 0.1194 - department_output_loss: 0.0915 - attrition_output_loss: 0.0279 - department_output_accuracy: 0.9830 - attrition_output_accuracy: 0.9940 - val_loss: 3.6088 - val_department_output_loss: 2.2257 - val_attrition_output_loss: 1.3830 - val_department_output_accuracy: 0.5680 - val_attrition_output_accuracy: 0.7721\n",
            "Epoch 71/100\n",
            "37/37 [==============================] - 0s 1ms/step - loss: 0.1085 - department_output_loss: 0.0857 - attrition_output_loss: 0.0228 - department_output_accuracy: 0.9830 - attrition_output_accuracy: 0.9966 - val_loss: 3.5822 - val_department_output_loss: 2.2108 - val_attrition_output_loss: 1.3714 - val_department_output_accuracy: 0.5476 - val_attrition_output_accuracy: 0.7517\n",
            "Epoch 72/100\n",
            "37/37 [==============================] - 0s 1ms/step - loss: 0.0973 - department_output_loss: 0.0774 - attrition_output_loss: 0.0199 - department_output_accuracy: 0.9881 - attrition_output_accuracy: 0.9974 - val_loss: 3.6567 - val_department_output_loss: 2.2698 - val_attrition_output_loss: 1.3870 - val_department_output_accuracy: 0.5340 - val_attrition_output_accuracy: 0.7925\n",
            "Epoch 73/100\n",
            "37/37 [==============================] - 0s 1ms/step - loss: 0.0941 - department_output_loss: 0.0773 - attrition_output_loss: 0.0169 - department_output_accuracy: 0.9838 - attrition_output_accuracy: 0.9974 - val_loss: 3.7199 - val_department_output_loss: 2.3120 - val_attrition_output_loss: 1.4079 - val_department_output_accuracy: 0.5578 - val_attrition_output_accuracy: 0.7789\n",
            "Epoch 74/100\n",
            "37/37 [==============================] - 0s 1ms/step - loss: 0.1025 - department_output_loss: 0.0761 - attrition_output_loss: 0.0264 - department_output_accuracy: 0.9830 - attrition_output_accuracy: 0.9940 - val_loss: 3.7025 - val_department_output_loss: 2.3024 - val_attrition_output_loss: 1.4001 - val_department_output_accuracy: 0.5000 - val_attrition_output_accuracy: 0.8231\n",
            "Epoch 75/100\n",
            "37/37 [==============================] - 0s 1ms/step - loss: 0.1030 - department_output_loss: 0.0773 - attrition_output_loss: 0.0256 - department_output_accuracy: 0.9855 - attrition_output_accuracy: 0.9949 - val_loss: 3.7544 - val_department_output_loss: 2.3355 - val_attrition_output_loss: 1.4189 - val_department_output_accuracy: 0.5510 - val_attrition_output_accuracy: 0.7891\n",
            "Epoch 76/100\n",
            "37/37 [==============================] - 0s 1ms/step - loss: 0.0864 - department_output_loss: 0.0688 - attrition_output_loss: 0.0176 - department_output_accuracy: 0.9864 - attrition_output_accuracy: 0.9974 - val_loss: 3.8928 - val_department_output_loss: 2.4623 - val_attrition_output_loss: 1.4306 - val_department_output_accuracy: 0.5612 - val_attrition_output_accuracy: 0.7959\n",
            "Epoch 77/100\n",
            "37/37 [==============================] - 0s 1ms/step - loss: 0.0782 - department_output_loss: 0.0639 - attrition_output_loss: 0.0142 - department_output_accuracy: 0.9898 - attrition_output_accuracy: 0.9991 - val_loss: 3.8795 - val_department_output_loss: 2.4324 - val_attrition_output_loss: 1.4471 - val_department_output_accuracy: 0.5408 - val_attrition_output_accuracy: 0.7891\n",
            "Epoch 78/100\n",
            "37/37 [==============================] - 0s 1ms/step - loss: 0.0759 - department_output_loss: 0.0619 - attrition_output_loss: 0.0141 - department_output_accuracy: 0.9855 - attrition_output_accuracy: 0.9983 - val_loss: 3.9321 - val_department_output_loss: 2.4780 - val_attrition_output_loss: 1.4541 - val_department_output_accuracy: 0.5238 - val_attrition_output_accuracy: 0.8027\n",
            "Epoch 79/100\n",
            "37/37 [==============================] - 0s 1ms/step - loss: 0.0883 - department_output_loss: 0.0731 - attrition_output_loss: 0.0152 - department_output_accuracy: 0.9864 - attrition_output_accuracy: 0.9991 - val_loss: 4.0155 - val_department_output_loss: 2.5313 - val_attrition_output_loss: 1.4842 - val_department_output_accuracy: 0.5544 - val_attrition_output_accuracy: 0.8061\n",
            "Epoch 80/100\n",
            "37/37 [==============================] - 0s 1ms/step - loss: 0.0816 - department_output_loss: 0.0668 - attrition_output_loss: 0.0148 - department_output_accuracy: 0.9813 - attrition_output_accuracy: 0.9957 - val_loss: 4.0647 - val_department_output_loss: 2.5017 - val_attrition_output_loss: 1.5630 - val_department_output_accuracy: 0.5578 - val_attrition_output_accuracy: 0.7755\n",
            "Epoch 81/100\n",
            "37/37 [==============================] - 0s 1ms/step - loss: 0.0672 - department_output_loss: 0.0528 - attrition_output_loss: 0.0143 - department_output_accuracy: 0.9949 - attrition_output_accuracy: 0.9966 - val_loss: 4.1206 - val_department_output_loss: 2.5969 - val_attrition_output_loss: 1.5237 - val_department_output_accuracy: 0.5306 - val_attrition_output_accuracy: 0.8299\n",
            "Epoch 82/100\n",
            "37/37 [==============================] - 0s 1ms/step - loss: 0.0695 - department_output_loss: 0.0542 - attrition_output_loss: 0.0153 - department_output_accuracy: 0.9906 - attrition_output_accuracy: 0.9974 - val_loss: 4.1043 - val_department_output_loss: 2.5303 - val_attrition_output_loss: 1.5740 - val_department_output_accuracy: 0.5510 - val_attrition_output_accuracy: 0.7721\n",
            "Epoch 83/100\n",
            "37/37 [==============================] - 0s 1ms/step - loss: 0.0672 - department_output_loss: 0.0552 - attrition_output_loss: 0.0120 - department_output_accuracy: 0.9881 - attrition_output_accuracy: 0.9983 - val_loss: 4.1646 - val_department_output_loss: 2.6039 - val_attrition_output_loss: 1.5607 - val_department_output_accuracy: 0.5510 - val_attrition_output_accuracy: 0.7823\n",
            "Epoch 84/100\n",
            "37/37 [==============================] - 0s 1ms/step - loss: 0.0603 - department_output_loss: 0.0503 - attrition_output_loss: 0.0100 - department_output_accuracy: 0.9906 - attrition_output_accuracy: 0.9991 - val_loss: 4.1957 - val_department_output_loss: 2.6144 - val_attrition_output_loss: 1.5814 - val_department_output_accuracy: 0.5306 - val_attrition_output_accuracy: 0.7687\n",
            "Epoch 85/100\n",
            "37/37 [==============================] - 0s 1ms/step - loss: 0.0624 - department_output_loss: 0.0511 - attrition_output_loss: 0.0113 - department_output_accuracy: 0.9923 - attrition_output_accuracy: 0.9983 - val_loss: 4.2622 - val_department_output_loss: 2.6565 - val_attrition_output_loss: 1.6057 - val_department_output_accuracy: 0.5612 - val_attrition_output_accuracy: 0.8095\n",
            "Epoch 86/100\n",
            "37/37 [==============================] - 0s 1ms/step - loss: 0.0623 - department_output_loss: 0.0452 - attrition_output_loss: 0.0172 - department_output_accuracy: 0.9923 - attrition_output_accuracy: 0.9983 - val_loss: 4.2666 - val_department_output_loss: 2.6984 - val_attrition_output_loss: 1.5682 - val_department_output_accuracy: 0.5510 - val_attrition_output_accuracy: 0.7925\n",
            "Epoch 87/100\n",
            "37/37 [==============================] - 0s 1ms/step - loss: 0.0634 - department_output_loss: 0.0490 - attrition_output_loss: 0.0144 - department_output_accuracy: 0.9906 - attrition_output_accuracy: 0.9966 - val_loss: 4.3035 - val_department_output_loss: 2.6790 - val_attrition_output_loss: 1.6245 - val_department_output_accuracy: 0.5510 - val_attrition_output_accuracy: 0.7823\n",
            "Epoch 88/100\n",
            "37/37 [==============================] - 0s 1ms/step - loss: 0.0752 - department_output_loss: 0.0580 - attrition_output_loss: 0.0172 - department_output_accuracy: 0.9881 - attrition_output_accuracy: 0.9966 - val_loss: 4.4284 - val_department_output_loss: 2.7387 - val_attrition_output_loss: 1.6897 - val_department_output_accuracy: 0.5442 - val_attrition_output_accuracy: 0.7721\n",
            "Epoch 89/100\n",
            "37/37 [==============================] - 0s 1ms/step - loss: 0.0632 - department_output_loss: 0.0478 - attrition_output_loss: 0.0154 - department_output_accuracy: 0.9923 - attrition_output_accuracy: 0.9983 - val_loss: 4.3761 - val_department_output_loss: 2.7422 - val_attrition_output_loss: 1.6339 - val_department_output_accuracy: 0.5374 - val_attrition_output_accuracy: 0.7687\n",
            "Epoch 90/100\n",
            "37/37 [==============================] - 0s 1ms/step - loss: 0.0556 - department_output_loss: 0.0437 - attrition_output_loss: 0.0119 - department_output_accuracy: 0.9932 - attrition_output_accuracy: 0.9974 - val_loss: 4.5123 - val_department_output_loss: 2.8011 - val_attrition_output_loss: 1.7112 - val_department_output_accuracy: 0.5476 - val_attrition_output_accuracy: 0.7891\n",
            "Epoch 91/100\n",
            "37/37 [==============================] - 0s 1ms/step - loss: 0.0591 - department_output_loss: 0.0436 - attrition_output_loss: 0.0155 - department_output_accuracy: 0.9940 - attrition_output_accuracy: 0.9966 - val_loss: 4.5135 - val_department_output_loss: 2.8183 - val_attrition_output_loss: 1.6952 - val_department_output_accuracy: 0.5578 - val_attrition_output_accuracy: 0.7891\n",
            "Epoch 92/100\n",
            "37/37 [==============================] - 0s 1ms/step - loss: 0.0499 - department_output_loss: 0.0389 - attrition_output_loss: 0.0110 - department_output_accuracy: 0.9957 - attrition_output_accuracy: 0.9983 - val_loss: 4.5108 - val_department_output_loss: 2.7696 - val_attrition_output_loss: 1.7412 - val_department_output_accuracy: 0.5714 - val_attrition_output_accuracy: 0.7823\n",
            "Epoch 93/100\n",
            "37/37 [==============================] - 0s 1ms/step - loss: 0.0584 - department_output_loss: 0.0477 - attrition_output_loss: 0.0106 - department_output_accuracy: 0.9915 - attrition_output_accuracy: 0.9974 - val_loss: 4.6079 - val_department_output_loss: 2.9026 - val_attrition_output_loss: 1.7053 - val_department_output_accuracy: 0.5578 - val_attrition_output_accuracy: 0.7857\n",
            "Epoch 94/100\n",
            "37/37 [==============================] - 0s 1ms/step - loss: 0.0523 - department_output_loss: 0.0395 - attrition_output_loss: 0.0128 - department_output_accuracy: 0.9957 - attrition_output_accuracy: 0.9966 - val_loss: 4.5177 - val_department_output_loss: 2.8247 - val_attrition_output_loss: 1.6930 - val_department_output_accuracy: 0.5408 - val_attrition_output_accuracy: 0.7959\n",
            "Epoch 95/100\n",
            "37/37 [==============================] - 0s 1ms/step - loss: 0.0670 - department_output_loss: 0.0468 - attrition_output_loss: 0.0202 - department_output_accuracy: 0.9898 - attrition_output_accuracy: 0.9949 - val_loss: 4.6204 - val_department_output_loss: 2.8645 - val_attrition_output_loss: 1.7559 - val_department_output_accuracy: 0.5442 - val_attrition_output_accuracy: 0.7891\n",
            "Epoch 96/100\n",
            "37/37 [==============================] - 0s 1ms/step - loss: 0.0744 - department_output_loss: 0.0483 - attrition_output_loss: 0.0261 - department_output_accuracy: 0.9881 - attrition_output_accuracy: 0.9906 - val_loss: 4.7522 - val_department_output_loss: 3.0622 - val_attrition_output_loss: 1.6900 - val_department_output_accuracy: 0.5578 - val_attrition_output_accuracy: 0.8061\n",
            "Epoch 97/100\n",
            "37/37 [==============================] - 0s 1ms/step - loss: 0.0835 - department_output_loss: 0.0545 - attrition_output_loss: 0.0290 - department_output_accuracy: 0.9872 - attrition_output_accuracy: 0.9898 - val_loss: 4.7846 - val_department_output_loss: 2.9748 - val_attrition_output_loss: 1.8098 - val_department_output_accuracy: 0.5714 - val_attrition_output_accuracy: 0.7517\n",
            "Epoch 98/100\n",
            "37/37 [==============================] - 0s 1ms/step - loss: 0.0836 - department_output_loss: 0.0529 - attrition_output_loss: 0.0308 - department_output_accuracy: 0.9855 - attrition_output_accuracy: 0.9906 - val_loss: 4.8070 - val_department_output_loss: 2.9095 - val_attrition_output_loss: 1.8975 - val_department_output_accuracy: 0.5918 - val_attrition_output_accuracy: 0.7551\n",
            "Epoch 99/100\n",
            "37/37 [==============================] - 0s 1ms/step - loss: 0.1365 - department_output_loss: 0.0620 - attrition_output_loss: 0.0745 - department_output_accuracy: 0.9813 - attrition_output_accuracy: 0.9745 - val_loss: 4.7745 - val_department_output_loss: 2.9763 - val_attrition_output_loss: 1.7982 - val_department_output_accuracy: 0.5238 - val_attrition_output_accuracy: 0.7449\n",
            "Epoch 100/100\n",
            "37/37 [==============================] - 0s 1ms/step - loss: 0.1122 - department_output_loss: 0.0595 - attrition_output_loss: 0.0526 - department_output_accuracy: 0.9830 - attrition_output_accuracy: 0.9821 - val_loss: 4.7056 - val_department_output_loss: 3.0313 - val_attrition_output_loss: 1.6743 - val_department_output_accuracy: 0.5442 - val_attrition_output_accuracy: 0.7755\n"
          ]
        }
      ],
      "source": [
        "# Train the model\n",
        "history = model.fit(\n",
        "    X_train_scaled,\n",
        "    {'department_output': y_train_department_encoded, 'attrition_output': y_train_attrition_encoded},\n",
        "    validation_data=(X_test_scaled, {'department_output': y_test_department_encoded, 'attrition_output': y_test_attrition_encoded}),\n",
        "    epochs=100,\n",
        "    batch_size=32,\n",
        "    verbose=1\n",
        ")"
      ]
    },
    {
      "cell_type": "code",
      "execution_count": 15,
      "metadata": {
        "colab": {
          "base_uri": "https://localhost:8080/"
        },
        "id": "VsMoaQlgGc3U",
        "outputId": "1bd4e601-e964-4abc-ad83-aeecf6b696be"
      },
      "outputs": [
        {
          "name": "stdout",
          "output_type": "stream",
          "text": [
            "10/10 [==============================] - 0s 667us/step - loss: 4.7056 - department_output_loss: 3.0313 - attrition_output_loss: 1.6743 - department_output_accuracy: 0.5442 - attrition_output_accuracy: 0.7755\n"
          ]
        }
      ],
      "source": [
        "# Evaluate the model with the testing data\n",
        "# Evaluate the model on the test data\n",
        "evaluation_results = model.evaluate(\n",
        "    X_test_scaled,\n",
        "    {'department_output': y_test_department_encoded, 'attrition_output': y_test_attrition_encoded},\n",
        "    verbose=1\n",
        ")\n",
        "\n"
      ]
    },
    {
      "cell_type": "code",
      "execution_count": 16,
      "metadata": {
        "colab": {
          "base_uri": "https://localhost:8080/"
        },
        "id": "ZlCtlHi0Vt54",
        "outputId": "bc21ef3e-80c2-4b38-9c29-79515bc23dec"
      },
      "outputs": [
        {
          "name": "stdout",
          "output_type": "stream",
          "text": [
            "Department preditions accuracy: 0.5442177057266235\n",
            "Attrition predictions accuracy: 0.7755101919174194\n"
          ]
        }
      ],
      "source": [
        "# Print the accuracy for both department and attrition\n",
        "# Print the evaluation results\n",
        "print(f\"Department preditions accuracy: {evaluation_results[3]}\")\n",
        "print(f\"Attrition predictions accuracy: {evaluation_results[4]}\")"
      ]
    },
    {
      "cell_type": "markdown",
      "metadata": {
        "id": "eGSyfsZfWOQM"
      },
      "source": [
        "# Summary\n",
        "\n",
        "In the provided space below, briefly answer the following questions.\n",
        "\n",
        "1. Is accuracy the best metric to use on this data? Why or why not?\n",
        "\n",
        "2. What activation functions did you choose for your output layers, and why?\n",
        "\n",
        "3. Can you name a few ways that this model might be improved?"
      ]
    },
    {
      "cell_type": "markdown",
      "metadata": {
        "id": "pi9SLpFnWvbF"
      },
      "source": [
        "YOUR ANSWERS HERE\n",
        "\n",
        "1. Accuracy may not be the best metric for this data, especially if the classes are imbalanced (e.g., more instances of one class than another). In such cases, accuracy can be misleading because it doesn't account for the distribution of classes and might not reflect the model's true performance. Metrics like precision, recall, or F1-score are often more informative in such scenarios.\n",
        "2. For the department_output layer, I chose softmax activation because it's suitable for multi-class classification tasks. Softmax outputs probabilities that sum to 1 across all classes.\n",
        "For the attrition_output layer, since attrition is binary, sigmoid activation is suitable. Sigmoid outputs a probability score between 0 and 1, which can be interpreted as the likelihood of an employee leaving.\n",
        "3. Consider using metrics like precision, recall, F1-score, or ROC-AUC for evaluating model performance, especially given the binary nature of the attrition prediction.\n",
        "Explore techniques specific to handling imbalanced classes, such as class weighting, oversampling, or using evaluation metrics that are robust to class imbalance.\n",
        "Implement regularization techniques like dropout or L2 regularization to prevent overfitting, especially if the dataset is small or noisy.\n",
        "Experiment with different model architectures, hyperparameters, and feature engineering techniques to improve predictive accuracy and robustness."
      ]
    },
    {
      "cell_type": "markdown",
      "metadata": {},
      "source": []
    }
  ],
  "metadata": {
    "colab": {
      "provenance": []
    },
    "kernelspec": {
      "display_name": "Python 3",
      "language": "python",
      "name": "python3"
    },
    "language_info": {
      "codemirror_mode": {
        "name": "ipython",
        "version": 3
      },
      "file_extension": ".py",
      "mimetype": "text/x-python",
      "name": "python",
      "nbconvert_exporter": "python",
      "pygments_lexer": "ipython3",
      "version": "3.10.13"
    },
    "vscode": {
      "interpreter": {
        "hash": "31f2aee4e71d21fbe5cf8b01ff0e069b9275f58929596ceb00d14d90e3e16cd6"
      }
    }
  },
  "nbformat": 4,
  "nbformat_minor": 0
}
