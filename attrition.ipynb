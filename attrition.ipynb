{
  "cells": [
    {
      "cell_type": "markdown",
      "metadata": {
        "id": "alIIEHibGc3M"
      },
      "source": [
        "## Part 1: Preprocessing"
      ]
    },
    {
      "cell_type": "code",
      "execution_count": 2,
      "metadata": {
        "colab": {
          "base_uri": "https://localhost:8080/",
          "height": 325
        },
        "id": "6eDUJ4NtGc3P",
        "outputId": "2480098c-135c-4cbf-9552-018494ee8ff5"
      },
      "outputs": [
        {
          "data": {
            "text/html": [
              "<div>\n",
              "<style scoped>\n",
              "    .dataframe tbody tr th:only-of-type {\n",
              "        vertical-align: middle;\n",
              "    }\n",
              "\n",
              "    .dataframe tbody tr th {\n",
              "        vertical-align: top;\n",
              "    }\n",
              "\n",
              "    .dataframe thead th {\n",
              "        text-align: right;\n",
              "    }\n",
              "</style>\n",
              "<table border=\"1\" class=\"dataframe\">\n",
              "  <thead>\n",
              "    <tr style=\"text-align: right;\">\n",
              "      <th></th>\n",
              "      <th>Age</th>\n",
              "      <th>Attrition</th>\n",
              "      <th>BusinessTravel</th>\n",
              "      <th>Department</th>\n",
              "      <th>DistanceFromHome</th>\n",
              "      <th>Education</th>\n",
              "      <th>EducationField</th>\n",
              "      <th>EnvironmentSatisfaction</th>\n",
              "      <th>HourlyRate</th>\n",
              "      <th>JobInvolvement</th>\n",
              "      <th>...</th>\n",
              "      <th>PerformanceRating</th>\n",
              "      <th>RelationshipSatisfaction</th>\n",
              "      <th>StockOptionLevel</th>\n",
              "      <th>TotalWorkingYears</th>\n",
              "      <th>TrainingTimesLastYear</th>\n",
              "      <th>WorkLifeBalance</th>\n",
              "      <th>YearsAtCompany</th>\n",
              "      <th>YearsInCurrentRole</th>\n",
              "      <th>YearsSinceLastPromotion</th>\n",
              "      <th>YearsWithCurrManager</th>\n",
              "    </tr>\n",
              "  </thead>\n",
              "  <tbody>\n",
              "    <tr>\n",
              "      <th>0</th>\n",
              "      <td>41</td>\n",
              "      <td>Yes</td>\n",
              "      <td>Travel_Rarely</td>\n",
              "      <td>Sales</td>\n",
              "      <td>1</td>\n",
              "      <td>2</td>\n",
              "      <td>Life Sciences</td>\n",
              "      <td>2</td>\n",
              "      <td>94</td>\n",
              "      <td>3</td>\n",
              "      <td>...</td>\n",
              "      <td>3</td>\n",
              "      <td>1</td>\n",
              "      <td>0</td>\n",
              "      <td>8</td>\n",
              "      <td>0</td>\n",
              "      <td>1</td>\n",
              "      <td>6</td>\n",
              "      <td>4</td>\n",
              "      <td>0</td>\n",
              "      <td>5</td>\n",
              "    </tr>\n",
              "    <tr>\n",
              "      <th>1</th>\n",
              "      <td>49</td>\n",
              "      <td>No</td>\n",
              "      <td>Travel_Frequently</td>\n",
              "      <td>Research &amp; Development</td>\n",
              "      <td>8</td>\n",
              "      <td>1</td>\n",
              "      <td>Life Sciences</td>\n",
              "      <td>3</td>\n",
              "      <td>61</td>\n",
              "      <td>2</td>\n",
              "      <td>...</td>\n",
              "      <td>4</td>\n",
              "      <td>4</td>\n",
              "      <td>1</td>\n",
              "      <td>10</td>\n",
              "      <td>3</td>\n",
              "      <td>3</td>\n",
              "      <td>10</td>\n",
              "      <td>7</td>\n",
              "      <td>1</td>\n",
              "      <td>7</td>\n",
              "    </tr>\n",
              "    <tr>\n",
              "      <th>2</th>\n",
              "      <td>37</td>\n",
              "      <td>Yes</td>\n",
              "      <td>Travel_Rarely</td>\n",
              "      <td>Research &amp; Development</td>\n",
              "      <td>2</td>\n",
              "      <td>2</td>\n",
              "      <td>Other</td>\n",
              "      <td>4</td>\n",
              "      <td>92</td>\n",
              "      <td>2</td>\n",
              "      <td>...</td>\n",
              "      <td>3</td>\n",
              "      <td>2</td>\n",
              "      <td>0</td>\n",
              "      <td>7</td>\n",
              "      <td>3</td>\n",
              "      <td>3</td>\n",
              "      <td>0</td>\n",
              "      <td>0</td>\n",
              "      <td>0</td>\n",
              "      <td>0</td>\n",
              "    </tr>\n",
              "    <tr>\n",
              "      <th>3</th>\n",
              "      <td>33</td>\n",
              "      <td>No</td>\n",
              "      <td>Travel_Frequently</td>\n",
              "      <td>Research &amp; Development</td>\n",
              "      <td>3</td>\n",
              "      <td>4</td>\n",
              "      <td>Life Sciences</td>\n",
              "      <td>4</td>\n",
              "      <td>56</td>\n",
              "      <td>3</td>\n",
              "      <td>...</td>\n",
              "      <td>3</td>\n",
              "      <td>3</td>\n",
              "      <td>0</td>\n",
              "      <td>8</td>\n",
              "      <td>3</td>\n",
              "      <td>3</td>\n",
              "      <td>8</td>\n",
              "      <td>7</td>\n",
              "      <td>3</td>\n",
              "      <td>0</td>\n",
              "    </tr>\n",
              "    <tr>\n",
              "      <th>4</th>\n",
              "      <td>27</td>\n",
              "      <td>No</td>\n",
              "      <td>Travel_Rarely</td>\n",
              "      <td>Research &amp; Development</td>\n",
              "      <td>2</td>\n",
              "      <td>1</td>\n",
              "      <td>Medical</td>\n",
              "      <td>1</td>\n",
              "      <td>40</td>\n",
              "      <td>3</td>\n",
              "      <td>...</td>\n",
              "      <td>3</td>\n",
              "      <td>4</td>\n",
              "      <td>1</td>\n",
              "      <td>6</td>\n",
              "      <td>3</td>\n",
              "      <td>3</td>\n",
              "      <td>2</td>\n",
              "      <td>2</td>\n",
              "      <td>2</td>\n",
              "      <td>2</td>\n",
              "    </tr>\n",
              "  </tbody>\n",
              "</table>\n",
              "<p>5 rows × 27 columns</p>\n",
              "</div>"
            ],
            "text/plain": [
              "   Age Attrition     BusinessTravel              Department  DistanceFromHome  \\\n",
              "0   41       Yes      Travel_Rarely                   Sales                 1   \n",
              "1   49        No  Travel_Frequently  Research & Development                 8   \n",
              "2   37       Yes      Travel_Rarely  Research & Development                 2   \n",
              "3   33        No  Travel_Frequently  Research & Development                 3   \n",
              "4   27        No      Travel_Rarely  Research & Development                 2   \n",
              "\n",
              "   Education EducationField  EnvironmentSatisfaction  HourlyRate  \\\n",
              "0          2  Life Sciences                        2          94   \n",
              "1          1  Life Sciences                        3          61   \n",
              "2          2          Other                        4          92   \n",
              "3          4  Life Sciences                        4          56   \n",
              "4          1        Medical                        1          40   \n",
              "\n",
              "   JobInvolvement  ...  PerformanceRating RelationshipSatisfaction  \\\n",
              "0               3  ...                  3                        1   \n",
              "1               2  ...                  4                        4   \n",
              "2               2  ...                  3                        2   \n",
              "3               3  ...                  3                        3   \n",
              "4               3  ...                  3                        4   \n",
              "\n",
              "   StockOptionLevel TotalWorkingYears  TrainingTimesLastYear WorkLifeBalance  \\\n",
              "0                 0                 8                      0               1   \n",
              "1                 1                10                      3               3   \n",
              "2                 0                 7                      3               3   \n",
              "3                 0                 8                      3               3   \n",
              "4                 1                 6                      3               3   \n",
              "\n",
              "   YearsAtCompany  YearsInCurrentRole  YearsSinceLastPromotion  \\\n",
              "0               6                   4                        0   \n",
              "1              10                   7                        1   \n",
              "2               0                   0                        0   \n",
              "3               8                   7                        3   \n",
              "4               2                   2                        2   \n",
              "\n",
              "   YearsWithCurrManager  \n",
              "0                     5  \n",
              "1                     7  \n",
              "2                     0  \n",
              "3                     0  \n",
              "4                     2  \n",
              "\n",
              "[5 rows x 27 columns]"
            ]
          },
          "execution_count": 2,
          "metadata": {},
          "output_type": "execute_result"
        }
      ],
      "source": [
        "# Import our dependencies\n",
        "from sklearn.model_selection import train_test_split\n",
        "from sklearn.preprocessing import StandardScaler\n",
        "import pandas as pd\n",
        "import numpy as np\n",
        "from tensorflow.keras.models import Model\n",
        "from tensorflow.keras import layers\n",
        "\n",
        "#  Import and read the attrition data\n",
        "attrition_df = pd.read_csv('https://static.bc-edx.com/ai/ail-v-1-0/m19/lms/datasets/attrition.csv')\n",
        "attrition_df.head()"
      ]
    },
    {
      "cell_type": "code",
      "execution_count": 3,
      "metadata": {
        "colab": {
          "base_uri": "https://localhost:8080/"
        },
        "id": "g22aQSY4Gc3Q",
        "outputId": "1f5c13c1-b981-4e40-a7ed-dd3fe6f1b81e"
      },
      "outputs": [
        {
          "data": {
            "text/plain": [
              "Age                         43\n",
              "Attrition                    2\n",
              "BusinessTravel               3\n",
              "Department                   3\n",
              "DistanceFromHome            29\n",
              "Education                    5\n",
              "EducationField               6\n",
              "EnvironmentSatisfaction      4\n",
              "HourlyRate                  71\n",
              "JobInvolvement               4\n",
              "JobLevel                     5\n",
              "JobRole                      9\n",
              "JobSatisfaction              4\n",
              "MaritalStatus                3\n",
              "NumCompaniesWorked          10\n",
              "OverTime                     2\n",
              "PercentSalaryHike           15\n",
              "PerformanceRating            2\n",
              "RelationshipSatisfaction     4\n",
              "StockOptionLevel             4\n",
              "TotalWorkingYears           40\n",
              "TrainingTimesLastYear        7\n",
              "WorkLifeBalance              4\n",
              "YearsAtCompany              37\n",
              "YearsInCurrentRole          19\n",
              "YearsSinceLastPromotion     16\n",
              "YearsWithCurrManager        18\n",
              "dtype: int64"
            ]
          },
          "execution_count": 3,
          "metadata": {},
          "output_type": "execute_result"
        }
      ],
      "source": [
        "# Determine the number of unique values in each column.\n",
        "attrition_df.nunique()"
      ]
    },
    {
      "cell_type": "code",
      "execution_count": 4,
      "metadata": {
        "id": "50vMgBEnJbfM"
      },
      "outputs": [],
      "source": [
        "# Create y_df with the Attrition and Department columns\n",
        "y_df = attrition_df.loc[:, ['Attrition', 'Department']]"
      ]
    },
    {
      "cell_type": "code",
      "execution_count": 5,
      "metadata": {
        "colab": {
          "base_uri": "https://localhost:8080/"
        },
        "id": "Virka0zLGc3R",
        "outputId": "dd5aee3a-9458-4ba6-e857-1b234de40915"
      },
      "outputs": [
        {
          "name": "stdout",
          "output_type": "stream",
          "text": [
            "Education                   int64\n",
            "Age                         int64\n",
            "DistanceFromHome            int64\n",
            "JobSatisfaction             int64\n",
            "OverTime                   object\n",
            "StockOptionLevel            int64\n",
            "WorkLifeBalance             int64\n",
            "YearsAtCompany              int64\n",
            "YearsSinceLastPromotion     int64\n",
            "NumCompaniesWorked          int64\n",
            "dtype: object\n"
          ]
        }
      ],
      "source": [
        "# Create a list of at least 10 column names to use as X data\n",
        "columns_X = ['Education', 'Age', 'DistanceFromHome', 'JobSatisfaction', 'OverTime',\n",
        "             'StockOptionLevel', 'WorkLifeBalance', 'YearsAtCompany',\n",
        "             'YearsSinceLastPromotion', 'NumCompaniesWorked']\n",
        "\n",
        "# Create X_df using your selected columns\n",
        "X_df = attrition_df[columns_X]\n",
        "\n",
        "# Show the data types for X_df\n",
        "print(X_df.dtypes)"
      ]
    },
    {
      "cell_type": "code",
      "execution_count": 6,
      "metadata": {
        "id": "KaJfdOGUMHMR"
      },
      "outputs": [],
      "source": [
        "# Split the data into training and testing sets\n",
        "from sklearn.model_selection import train_test_split\n",
        "X_train, X_test, y_train, y_test = train_test_split(X_df, y_df, test_size=0.2, random_state=42)"
      ]
    },
    {
      "cell_type": "code",
      "execution_count": 7,
      "metadata": {
        "colab": {
          "base_uri": "https://localhost:8080/"
        },
        "id": "NYubUJqiLCSp",
        "outputId": "53f31721-571c-4c94-d13e-25a715749593"
      },
      "outputs": [],
      "source": [
        "# Convert your X data to numeric data types however you see fit\n",
        "# Add new code cells as necessary\n",
        "# The only column with non-numeric data is the OverTime column.  This can be converted with simple lambda function.\n",
        "X_train['OverTime'] = X_train['OverTime'].apply(lambda x: 1 if x == 'Yes' else 0)\n",
        "X_test['OverTime'] = X_test['OverTime'].apply(lambda x: 1 if x == 'Yes' else 0)\n"
      ]
    },
    {
      "cell_type": "code",
      "execution_count": 8,
      "metadata": {
        "id": "EWA-aIA5Gc3T"
      },
      "outputs": [],
      "source": [
        "# Create a StandardScaler\n",
        "scaler = StandardScaler()\n",
        "\n",
        "# Fit the StandardScaler to the training data\n",
        "scaler.fit(X_train)\n",
        "\n",
        "# Scale the training and testing data\n",
        "X_train_scaled = scaler.transform(X_train)\n",
        "X_test_scaled = scaler.transform(X_test)\n"
      ]
    },
    {
      "cell_type": "code",
      "execution_count": 9,
      "metadata": {
        "colab": {
          "base_uri": "https://localhost:8080/"
        },
        "id": "-z0Mky8vQSz4",
        "outputId": "debefc85-c20b-48f5-f4d9-91eadd65d36a"
      },
      "outputs": [],
      "source": [
        "from sklearn.preprocessing import OneHotEncoder\n",
        "# Create a OneHotEncoder for the Department column\n",
        "encoder_dep = OneHotEncoder(sparse_output=False)\n",
        "\n",
        "# Fit the encoder to the training data\n",
        "encoder_dep.fit(y_train[['Department']])\n",
        "\n",
        "# Create two new variables by applying the encoder\n",
        "# to the training and testing data\n",
        "y_train_department_encoded = encoder_dep.transform(y_train[['Department']])\n",
        "y_test_department_encoded = encoder_dep.transform(y_test[['Department']])"
      ]
    },
    {
      "cell_type": "code",
      "execution_count": 10,
      "metadata": {
        "colab": {
          "base_uri": "https://localhost:8080/"
        },
        "id": "-G4DSpvFRrk4",
        "outputId": "9842e948-8a55-4b80-8fac-f96714e85589"
      },
      "outputs": [],
      "source": [
        "# Create a OneHotEncoder for the Attrition column\n",
        "encoder_att = OneHotEncoder(sparse_output=False)\n",
        "\n",
        "# Fit the encoder to the training data\n",
        "encoder_att.fit(y_train[['Attrition']])\n",
        "\n",
        "# Create two new variables by applying the encoder\n",
        "# to the training and testing data\n",
        "y_train_attrition_encoded = encoder_att.transform(y_train[['Attrition']])\n",
        "y_test_attrition_encoded = encoder_att.transform(y_test[['Attrition']])\n"
      ]
    },
    {
      "cell_type": "markdown",
      "metadata": {
        "id": "ykNmu_WWGc3T"
      },
      "source": [
        "## Create, Compile, and Train the Model"
      ]
    },
    {
      "cell_type": "code",
      "execution_count": 11,
      "metadata": {
        "id": "WUptZqmSGc3T"
      },
      "outputs": [],
      "source": [
        "from tensorflow.keras.layers import Input, Dense\n",
        "from tensorflow.keras.optimizers import Adam\n",
        "# Find the number of columns in the X training data\n",
        "num_columns = X_train.shape[1]\n",
        "\n",
        "# Create the input layer\n",
        "input_layer = Input(shape=(num_columns,), name='input')\n",
        "\n",
        "# Create at least two shared layers\n",
        "shared_layer_1 = Dense(64, activation='relu', name='shared1')(input_layer)\n",
        "shared_layer_2 = Dense(128, activation='relu', name='shared2')(shared_layer_1)"
      ]
    },
    {
      "cell_type": "code",
      "execution_count": 12,
      "metadata": {
        "id": "JukjTm2yTEqd"
      },
      "outputs": [],
      "source": [
        "# Create a branch for Department\n",
        "# with a hidden layer and an output layer\n",
        "department_hidden = Dense(32, activation='relu', name='department_hidden')(shared_layer_2)\n",
        "department_output = Dense(3, activation='softmax', name='department_output')(department_hidden)"
      ]
    },
    {
      "cell_type": "code",
      "execution_count": 13,
      "metadata": {
        "id": "9OqhUiOJUBkR"
      },
      "outputs": [],
      "source": [
        "# Create a branch for Attrition\n",
        "# with a hidden layer and an output layer\n",
        "attrition_hidden = Dense(32, activation='relu', name='attrition_hidden')(shared_layer_2)\n",
        "attrition_output = Dense(2, activation='softmax', name='attrition_output')(attrition_hidden)"
      ]
    },
    {
      "cell_type": "code",
      "execution_count": 14,
      "metadata": {
        "colab": {
          "base_uri": "https://localhost:8080/"
        },
        "id": "twmuejdxGc3T",
        "outputId": "25096308-b68b-42e4-e4ea-ae82e97c435a"
      },
      "outputs": [
        {
          "name": "stdout",
          "output_type": "stream",
          "text": [
            "Model: \"model\"\n",
            "__________________________________________________________________________________________________\n",
            " Layer (type)                Output Shape                 Param #   Connected to                  \n",
            "==================================================================================================\n",
            " input (InputLayer)          [(None, 10)]                 0         []                            \n",
            "                                                                                                  \n",
            " shared1 (Dense)             (None, 64)                   704       ['input[0][0]']               \n",
            "                                                                                                  \n",
            " shared2 (Dense)             (None, 128)                  8320      ['shared1[0][0]']             \n",
            "                                                                                                  \n",
            " department_hidden (Dense)   (None, 32)                   4128      ['shared2[0][0]']             \n",
            "                                                                                                  \n",
            " attrition_hidden (Dense)    (None, 32)                   4128      ['shared2[0][0]']             \n",
            "                                                                                                  \n",
            " department_output (Dense)   (None, 3)                    99        ['department_hidden[0][0]']   \n",
            "                                                                                                  \n",
            " attrition_output (Dense)    (None, 2)                    66        ['attrition_hidden[0][0]']    \n",
            "                                                                                                  \n",
            "==================================================================================================\n",
            "Total params: 17445 (68.14 KB)\n",
            "Trainable params: 17445 (68.14 KB)\n",
            "Non-trainable params: 0 (0.00 Byte)\n",
            "__________________________________________________________________________________________________\n"
          ]
        }
      ],
      "source": [
        "# Create the model\n",
        "model = Model(inputs=input_layer, outputs=[department_output, attrition_output])\n",
        "\n",
        "# Compile the model\n",
        "model.compile(optimizer=Adam(learning_rate=0.001),\n",
        "              loss={'department_output': 'categorical_crossentropy',\n",
        "                    'attrition_output': 'categorical_crossentropy'},\n",
        "              metrics={'department_output': 'accuracy',\n",
        "                       'attrition_output': 'accuracy'})\n",
        "\n",
        "# Summarize the model\n",
        "model.summary()"
      ]
    },
    {
      "cell_type": "code",
      "execution_count": 15,
      "metadata": {
        "colab": {
          "base_uri": "https://localhost:8080/"
        },
        "id": "c8oGy0dpGc3U",
        "outputId": "cc667d43-28cf-42d4-d719-c2bc02888d30"
      },
      "outputs": [
        {
          "name": "stdout",
          "output_type": "stream",
          "text": [
            "Epoch 1/100\n",
            "37/37 [==============================] - 1s 5ms/step - loss: 1.3203 - department_output_loss: 0.8461 - attrition_output_loss: 0.4743 - department_output_accuracy: 0.6344 - attrition_output_accuracy: 0.8240 - val_loss: 1.1944 - val_department_output_loss: 0.8013 - val_attrition_output_loss: 0.3931 - val_department_output_accuracy: 0.6667 - val_attrition_output_accuracy: 0.8673\n",
            "Epoch 2/100\n",
            "37/37 [==============================] - 0s 1ms/step - loss: 1.1780 - department_output_loss: 0.7771 - attrition_output_loss: 0.4008 - department_output_accuracy: 0.6497 - attrition_output_accuracy: 0.8393 - val_loss: 1.1894 - val_department_output_loss: 0.7992 - val_attrition_output_loss: 0.3902 - val_department_output_accuracy: 0.6667 - val_attrition_output_accuracy: 0.8469\n",
            "Epoch 3/100\n",
            "37/37 [==============================] - 0s 1ms/step - loss: 1.1439 - department_output_loss: 0.7666 - attrition_output_loss: 0.3773 - department_output_accuracy: 0.6505 - attrition_output_accuracy: 0.8529 - val_loss: 1.1877 - val_department_output_loss: 0.8005 - val_attrition_output_loss: 0.3872 - val_department_output_accuracy: 0.6599 - val_attrition_output_accuracy: 0.8503\n",
            "Epoch 4/100\n",
            "37/37 [==============================] - 0s 1ms/step - loss: 1.1241 - department_output_loss: 0.7616 - attrition_output_loss: 0.3624 - department_output_accuracy: 0.6505 - attrition_output_accuracy: 0.8571 - val_loss: 1.1720 - val_department_output_loss: 0.7924 - val_attrition_output_loss: 0.3796 - val_department_output_accuracy: 0.6667 - val_attrition_output_accuracy: 0.8605\n",
            "Epoch 5/100\n",
            "37/37 [==============================] - 0s 1ms/step - loss: 1.1039 - department_output_loss: 0.7519 - attrition_output_loss: 0.3520 - department_output_accuracy: 0.6505 - attrition_output_accuracy: 0.8580 - val_loss: 1.1775 - val_department_output_loss: 0.7969 - val_attrition_output_loss: 0.3806 - val_department_output_accuracy: 0.6667 - val_attrition_output_accuracy: 0.8639\n",
            "Epoch 6/100\n",
            "37/37 [==============================] - 0s 1ms/step - loss: 1.0915 - department_output_loss: 0.7470 - attrition_output_loss: 0.3446 - department_output_accuracy: 0.6505 - attrition_output_accuracy: 0.8614 - val_loss: 1.1848 - val_department_output_loss: 0.7988 - val_attrition_output_loss: 0.3860 - val_department_output_accuracy: 0.6667 - val_attrition_output_accuracy: 0.8571\n",
            "Epoch 7/100\n",
            "37/37 [==============================] - 0s 1ms/step - loss: 1.0689 - department_output_loss: 0.7360 - attrition_output_loss: 0.3330 - department_output_accuracy: 0.6514 - attrition_output_accuracy: 0.8716 - val_loss: 1.1832 - val_department_output_loss: 0.8004 - val_attrition_output_loss: 0.3828 - val_department_output_accuracy: 0.6667 - val_attrition_output_accuracy: 0.8605\n",
            "Epoch 8/100\n",
            "37/37 [==============================] - 0s 1ms/step - loss: 1.0522 - department_output_loss: 0.7288 - attrition_output_loss: 0.3234 - department_output_accuracy: 0.6565 - attrition_output_accuracy: 0.8682 - val_loss: 1.1962 - val_department_output_loss: 0.8081 - val_attrition_output_loss: 0.3881 - val_department_output_accuracy: 0.6463 - val_attrition_output_accuracy: 0.8673\n",
            "Epoch 9/100\n",
            "37/37 [==============================] - 0s 1ms/step - loss: 1.0360 - department_output_loss: 0.7210 - attrition_output_loss: 0.3150 - department_output_accuracy: 0.6675 - attrition_output_accuracy: 0.8759 - val_loss: 1.1884 - val_department_output_loss: 0.8031 - val_attrition_output_loss: 0.3854 - val_department_output_accuracy: 0.6633 - val_attrition_output_accuracy: 0.8571\n",
            "Epoch 10/100\n",
            "37/37 [==============================] - 0s 1ms/step - loss: 1.0215 - department_output_loss: 0.7125 - attrition_output_loss: 0.3090 - department_output_accuracy: 0.6616 - attrition_output_accuracy: 0.8776 - val_loss: 1.2026 - val_department_output_loss: 0.8058 - val_attrition_output_loss: 0.3968 - val_department_output_accuracy: 0.6667 - val_attrition_output_accuracy: 0.8605\n",
            "Epoch 11/100\n",
            "37/37 [==============================] - 0s 1ms/step - loss: 1.0020 - department_output_loss: 0.7029 - attrition_output_loss: 0.2990 - department_output_accuracy: 0.6786 - attrition_output_accuracy: 0.8801 - val_loss: 1.2129 - val_department_output_loss: 0.8195 - val_attrition_output_loss: 0.3934 - val_department_output_accuracy: 0.6701 - val_attrition_output_accuracy: 0.8605\n",
            "Epoch 12/100\n",
            "37/37 [==============================] - 0s 1ms/step - loss: 0.9845 - department_output_loss: 0.6940 - attrition_output_loss: 0.2905 - department_output_accuracy: 0.6803 - attrition_output_accuracy: 0.8861 - val_loss: 1.2279 - val_department_output_loss: 0.8114 - val_attrition_output_loss: 0.4165 - val_department_output_accuracy: 0.6599 - val_attrition_output_accuracy: 0.8639\n",
            "Epoch 13/100\n",
            "37/37 [==============================] - 0s 1ms/step - loss: 0.9764 - department_output_loss: 0.6876 - attrition_output_loss: 0.2888 - department_output_accuracy: 0.6888 - attrition_output_accuracy: 0.8869 - val_loss: 1.2335 - val_department_output_loss: 0.8251 - val_attrition_output_loss: 0.4084 - val_department_output_accuracy: 0.6531 - val_attrition_output_accuracy: 0.8605\n",
            "Epoch 14/100\n",
            "37/37 [==============================] - 0s 1ms/step - loss: 0.9531 - department_output_loss: 0.6773 - attrition_output_loss: 0.2758 - department_output_accuracy: 0.6905 - attrition_output_accuracy: 0.8903 - val_loss: 1.2198 - val_department_output_loss: 0.8216 - val_attrition_output_loss: 0.3982 - val_department_output_accuracy: 0.6327 - val_attrition_output_accuracy: 0.8639\n",
            "Epoch 15/100\n",
            "37/37 [==============================] - 0s 1ms/step - loss: 0.9310 - department_output_loss: 0.6623 - attrition_output_loss: 0.2687 - department_output_accuracy: 0.6973 - attrition_output_accuracy: 0.8920 - val_loss: 1.2562 - val_department_output_loss: 0.8282 - val_attrition_output_loss: 0.4280 - val_department_output_accuracy: 0.6259 - val_attrition_output_accuracy: 0.8571\n",
            "Epoch 16/100\n",
            "37/37 [==============================] - 0s 1ms/step - loss: 0.9098 - department_output_loss: 0.6510 - attrition_output_loss: 0.2588 - department_output_accuracy: 0.7041 - attrition_output_accuracy: 0.8971 - val_loss: 1.2644 - val_department_output_loss: 0.8415 - val_attrition_output_loss: 0.4229 - val_department_output_accuracy: 0.6531 - val_attrition_output_accuracy: 0.8639\n",
            "Epoch 17/100\n",
            "37/37 [==============================] - 0s 1ms/step - loss: 0.8875 - department_output_loss: 0.6357 - attrition_output_loss: 0.2518 - department_output_accuracy: 0.7168 - attrition_output_accuracy: 0.8997 - val_loss: 1.2888 - val_department_output_loss: 0.8492 - val_attrition_output_loss: 0.4396 - val_department_output_accuracy: 0.6156 - val_attrition_output_accuracy: 0.8639\n",
            "Epoch 18/100\n",
            "37/37 [==============================] - 0s 1ms/step - loss: 0.8739 - department_output_loss: 0.6255 - attrition_output_loss: 0.2484 - department_output_accuracy: 0.7228 - attrition_output_accuracy: 0.8963 - val_loss: 1.2970 - val_department_output_loss: 0.8554 - val_attrition_output_loss: 0.4416 - val_department_output_accuracy: 0.6190 - val_attrition_output_accuracy: 0.8639\n",
            "Epoch 19/100\n",
            "37/37 [==============================] - 0s 1ms/step - loss: 0.8415 - department_output_loss: 0.6082 - attrition_output_loss: 0.2333 - department_output_accuracy: 0.7321 - attrition_output_accuracy: 0.9005 - val_loss: 1.3398 - val_department_output_loss: 0.8679 - val_attrition_output_loss: 0.4719 - val_department_output_accuracy: 0.5442 - val_attrition_output_accuracy: 0.8469\n",
            "Epoch 20/100\n",
            "37/37 [==============================] - 0s 1ms/step - loss: 0.8296 - department_output_loss: 0.5956 - attrition_output_loss: 0.2340 - department_output_accuracy: 0.7432 - attrition_output_accuracy: 0.9039 - val_loss: 1.3443 - val_department_output_loss: 0.8840 - val_attrition_output_loss: 0.4603 - val_department_output_accuracy: 0.6531 - val_attrition_output_accuracy: 0.8537\n",
            "Epoch 21/100\n",
            "37/37 [==============================] - 0s 1ms/step - loss: 0.8022 - department_output_loss: 0.5829 - attrition_output_loss: 0.2194 - department_output_accuracy: 0.7449 - attrition_output_accuracy: 0.9107 - val_loss: 1.3960 - val_department_output_loss: 0.9010 - val_attrition_output_loss: 0.4949 - val_department_output_accuracy: 0.6020 - val_attrition_output_accuracy: 0.8469\n",
            "Epoch 22/100\n",
            "37/37 [==============================] - 0s 1ms/step - loss: 0.7859 - department_output_loss: 0.5743 - attrition_output_loss: 0.2116 - department_output_accuracy: 0.7381 - attrition_output_accuracy: 0.9116 - val_loss: 1.3794 - val_department_output_loss: 0.8878 - val_attrition_output_loss: 0.4916 - val_department_output_accuracy: 0.5714 - val_attrition_output_accuracy: 0.8605\n",
            "Epoch 23/100\n",
            "37/37 [==============================] - 0s 1ms/step - loss: 0.7640 - department_output_loss: 0.5568 - attrition_output_loss: 0.2072 - department_output_accuracy: 0.7636 - attrition_output_accuracy: 0.9167 - val_loss: 1.4499 - val_department_output_loss: 0.9153 - val_attrition_output_loss: 0.5346 - val_department_output_accuracy: 0.5612 - val_attrition_output_accuracy: 0.8197\n",
            "Epoch 24/100\n",
            "37/37 [==============================] - 0s 1ms/step - loss: 0.7504 - department_output_loss: 0.5448 - attrition_output_loss: 0.2055 - department_output_accuracy: 0.7738 - attrition_output_accuracy: 0.9209 - val_loss: 1.4572 - val_department_output_loss: 0.9421 - val_attrition_output_loss: 0.5151 - val_department_output_accuracy: 0.5986 - val_attrition_output_accuracy: 0.8503\n",
            "Epoch 25/100\n",
            "37/37 [==============================] - 0s 1ms/step - loss: 0.7133 - department_output_loss: 0.5252 - attrition_output_loss: 0.1881 - department_output_accuracy: 0.7849 - attrition_output_accuracy: 0.9235 - val_loss: 1.4915 - val_department_output_loss: 0.9492 - val_attrition_output_loss: 0.5424 - val_department_output_accuracy: 0.5442 - val_attrition_output_accuracy: 0.8299\n",
            "Epoch 26/100\n",
            "37/37 [==============================] - 0s 1ms/step - loss: 0.6985 - department_output_loss: 0.5138 - attrition_output_loss: 0.1848 - department_output_accuracy: 0.7832 - attrition_output_accuracy: 0.9371 - val_loss: 1.5198 - val_department_output_loss: 0.9673 - val_attrition_output_loss: 0.5524 - val_department_output_accuracy: 0.6190 - val_attrition_output_accuracy: 0.8605\n",
            "Epoch 27/100\n",
            "37/37 [==============================] - 0s 1ms/step - loss: 0.6837 - department_output_loss: 0.5109 - attrition_output_loss: 0.1728 - department_output_accuracy: 0.7857 - attrition_output_accuracy: 0.9269 - val_loss: 1.5256 - val_department_output_loss: 0.9614 - val_attrition_output_loss: 0.5642 - val_department_output_accuracy: 0.5884 - val_attrition_output_accuracy: 0.8435\n",
            "Epoch 28/100\n",
            "37/37 [==============================] - 0s 1ms/step - loss: 0.6570 - department_output_loss: 0.4929 - attrition_output_loss: 0.1641 - department_output_accuracy: 0.7993 - attrition_output_accuracy: 0.9328 - val_loss: 1.5504 - val_department_output_loss: 0.9776 - val_attrition_output_loss: 0.5728 - val_department_output_accuracy: 0.5884 - val_attrition_output_accuracy: 0.8367\n",
            "Epoch 29/100\n",
            "37/37 [==============================] - 0s 1ms/step - loss: 0.6282 - department_output_loss: 0.4684 - attrition_output_loss: 0.1598 - department_output_accuracy: 0.8095 - attrition_output_accuracy: 0.9405 - val_loss: 1.6038 - val_department_output_loss: 0.9945 - val_attrition_output_loss: 0.6093 - val_department_output_accuracy: 0.5306 - val_attrition_output_accuracy: 0.8503\n",
            "Epoch 30/100\n",
            "37/37 [==============================] - 0s 1ms/step - loss: 0.6082 - department_output_loss: 0.4580 - attrition_output_loss: 0.1501 - department_output_accuracy: 0.8197 - attrition_output_accuracy: 0.9371 - val_loss: 1.6559 - val_department_output_loss: 1.0306 - val_attrition_output_loss: 0.6253 - val_department_output_accuracy: 0.5170 - val_attrition_output_accuracy: 0.8401\n",
            "Epoch 31/100\n",
            "37/37 [==============================] - 0s 1ms/step - loss: 0.5877 - department_output_loss: 0.4437 - attrition_output_loss: 0.1440 - department_output_accuracy: 0.8257 - attrition_output_accuracy: 0.9498 - val_loss: 1.6766 - val_department_output_loss: 1.0270 - val_attrition_output_loss: 0.6496 - val_department_output_accuracy: 0.5544 - val_attrition_output_accuracy: 0.8571\n",
            "Epoch 32/100\n",
            "37/37 [==============================] - 0s 1ms/step - loss: 0.5749 - department_output_loss: 0.4295 - attrition_output_loss: 0.1454 - department_output_accuracy: 0.8401 - attrition_output_accuracy: 0.9464 - val_loss: 1.7461 - val_department_output_loss: 1.0505 - val_attrition_output_loss: 0.6955 - val_department_output_accuracy: 0.5578 - val_attrition_output_accuracy: 0.8571\n",
            "Epoch 33/100\n",
            "37/37 [==============================] - 0s 1ms/step - loss: 0.5680 - department_output_loss: 0.4271 - attrition_output_loss: 0.1409 - department_output_accuracy: 0.8172 - attrition_output_accuracy: 0.9464 - val_loss: 1.7551 - val_department_output_loss: 1.0699 - val_attrition_output_loss: 0.6852 - val_department_output_accuracy: 0.6054 - val_attrition_output_accuracy: 0.8061\n",
            "Epoch 34/100\n",
            "37/37 [==============================] - 0s 1ms/step - loss: 0.5416 - department_output_loss: 0.4033 - attrition_output_loss: 0.1383 - department_output_accuracy: 0.8376 - attrition_output_accuracy: 0.9447 - val_loss: 1.7887 - val_department_output_loss: 1.0905 - val_attrition_output_loss: 0.6982 - val_department_output_accuracy: 0.5306 - val_attrition_output_accuracy: 0.8129\n",
            "Epoch 35/100\n",
            "37/37 [==============================] - 0s 1ms/step - loss: 0.5035 - department_output_loss: 0.3830 - attrition_output_loss: 0.1205 - department_output_accuracy: 0.8597 - attrition_output_accuracy: 0.9617 - val_loss: 1.8115 - val_department_output_loss: 1.1192 - val_attrition_output_loss: 0.6922 - val_department_output_accuracy: 0.5034 - val_attrition_output_accuracy: 0.8265\n",
            "Epoch 36/100\n",
            "37/37 [==============================] - 0s 1ms/step - loss: 0.4933 - department_output_loss: 0.3821 - attrition_output_loss: 0.1113 - department_output_accuracy: 0.8580 - attrition_output_accuracy: 0.9626 - val_loss: 1.9025 - val_department_output_loss: 1.1419 - val_attrition_output_loss: 0.7606 - val_department_output_accuracy: 0.5442 - val_attrition_output_accuracy: 0.7993\n",
            "Epoch 37/100\n",
            "37/37 [==============================] - 0s 1ms/step - loss: 0.4829 - department_output_loss: 0.3743 - attrition_output_loss: 0.1086 - department_output_accuracy: 0.8529 - attrition_output_accuracy: 0.9643 - val_loss: 1.9112 - val_department_output_loss: 1.1447 - val_attrition_output_loss: 0.7665 - val_department_output_accuracy: 0.5578 - val_attrition_output_accuracy: 0.8333\n",
            "Epoch 38/100\n",
            "37/37 [==============================] - 0s 1ms/step - loss: 0.4561 - department_output_loss: 0.3496 - attrition_output_loss: 0.1065 - department_output_accuracy: 0.8605 - attrition_output_accuracy: 0.9643 - val_loss: 1.9518 - val_department_output_loss: 1.1638 - val_attrition_output_loss: 0.7880 - val_department_output_accuracy: 0.5170 - val_attrition_output_accuracy: 0.8265\n",
            "Epoch 39/100\n",
            "37/37 [==============================] - 0s 1ms/step - loss: 0.4381 - department_output_loss: 0.3395 - attrition_output_loss: 0.0986 - department_output_accuracy: 0.8741 - attrition_output_accuracy: 0.9643 - val_loss: 2.0217 - val_department_output_loss: 1.2085 - val_attrition_output_loss: 0.8133 - val_department_output_accuracy: 0.5374 - val_attrition_output_accuracy: 0.8129\n",
            "Epoch 40/100\n",
            "37/37 [==============================] - 0s 1ms/step - loss: 0.4199 - department_output_loss: 0.3186 - attrition_output_loss: 0.1013 - department_output_accuracy: 0.8835 - attrition_output_accuracy: 0.9677 - val_loss: 2.0657 - val_department_output_loss: 1.2144 - val_attrition_output_loss: 0.8513 - val_department_output_accuracy: 0.5442 - val_attrition_output_accuracy: 0.7925\n",
            "Epoch 41/100\n",
            "37/37 [==============================] - 0s 1ms/step - loss: 0.4045 - department_output_loss: 0.3144 - attrition_output_loss: 0.0901 - department_output_accuracy: 0.8954 - attrition_output_accuracy: 0.9770 - val_loss: 2.1030 - val_department_output_loss: 1.2330 - val_attrition_output_loss: 0.8700 - val_department_output_accuracy: 0.5510 - val_attrition_output_accuracy: 0.8299\n",
            "Epoch 42/100\n",
            "37/37 [==============================] - 0s 1ms/step - loss: 0.3812 - department_output_loss: 0.2963 - attrition_output_loss: 0.0848 - department_output_accuracy: 0.8946 - attrition_output_accuracy: 0.9736 - val_loss: 2.1543 - val_department_output_loss: 1.2526 - val_attrition_output_loss: 0.9017 - val_department_output_accuracy: 0.5510 - val_attrition_output_accuracy: 0.8231\n",
            "Epoch 43/100\n",
            "37/37 [==============================] - 0s 1ms/step - loss: 0.3678 - department_output_loss: 0.2886 - attrition_output_loss: 0.0792 - department_output_accuracy: 0.9014 - attrition_output_accuracy: 0.9779 - val_loss: 2.2103 - val_department_output_loss: 1.2951 - val_attrition_output_loss: 0.9151 - val_department_output_accuracy: 0.5170 - val_attrition_output_accuracy: 0.8299\n",
            "Epoch 44/100\n",
            "37/37 [==============================] - 0s 1ms/step - loss: 0.3631 - department_output_loss: 0.2849 - attrition_output_loss: 0.0782 - department_output_accuracy: 0.9082 - attrition_output_accuracy: 0.9779 - val_loss: 2.2322 - val_department_output_loss: 1.3015 - val_attrition_output_loss: 0.9307 - val_department_output_accuracy: 0.5748 - val_attrition_output_accuracy: 0.8231\n",
            "Epoch 45/100\n",
            "37/37 [==============================] - 0s 1ms/step - loss: 0.3587 - department_output_loss: 0.2875 - attrition_output_loss: 0.0712 - department_output_accuracy: 0.8954 - attrition_output_accuracy: 0.9838 - val_loss: 2.2637 - val_department_output_loss: 1.3155 - val_attrition_output_loss: 0.9482 - val_department_output_accuracy: 0.5204 - val_attrition_output_accuracy: 0.8163\n",
            "Epoch 46/100\n",
            "37/37 [==============================] - 0s 1ms/step - loss: 0.3229 - department_output_loss: 0.2570 - attrition_output_loss: 0.0659 - department_output_accuracy: 0.9235 - attrition_output_accuracy: 0.9830 - val_loss: 2.3208 - val_department_output_loss: 1.3449 - val_attrition_output_loss: 0.9758 - val_department_output_accuracy: 0.5136 - val_attrition_output_accuracy: 0.8027\n",
            "Epoch 47/100\n",
            "37/37 [==============================] - 0s 1ms/step - loss: 0.3122 - department_output_loss: 0.2476 - attrition_output_loss: 0.0646 - department_output_accuracy: 0.9158 - attrition_output_accuracy: 0.9830 - val_loss: 2.4024 - val_department_output_loss: 1.3923 - val_attrition_output_loss: 1.0101 - val_department_output_accuracy: 0.5068 - val_attrition_output_accuracy: 0.7789\n",
            "Epoch 48/100\n",
            "37/37 [==============================] - 0s 1ms/step - loss: 0.3038 - department_output_loss: 0.2426 - attrition_output_loss: 0.0611 - department_output_accuracy: 0.9286 - attrition_output_accuracy: 0.9847 - val_loss: 2.4744 - val_department_output_loss: 1.4184 - val_attrition_output_loss: 1.0560 - val_department_output_accuracy: 0.5204 - val_attrition_output_accuracy: 0.7993\n",
            "Epoch 49/100\n",
            "37/37 [==============================] - 0s 1ms/step - loss: 0.2881 - department_output_loss: 0.2282 - attrition_output_loss: 0.0598 - department_output_accuracy: 0.9337 - attrition_output_accuracy: 0.9813 - val_loss: 2.5515 - val_department_output_loss: 1.4521 - val_attrition_output_loss: 1.0993 - val_department_output_accuracy: 0.5306 - val_attrition_output_accuracy: 0.8027\n",
            "Epoch 50/100\n",
            "37/37 [==============================] - 0s 1ms/step - loss: 0.2778 - department_output_loss: 0.2234 - attrition_output_loss: 0.0543 - department_output_accuracy: 0.9286 - attrition_output_accuracy: 0.9830 - val_loss: 2.5469 - val_department_output_loss: 1.4575 - val_attrition_output_loss: 1.0894 - val_department_output_accuracy: 0.5408 - val_attrition_output_accuracy: 0.7823\n",
            "Epoch 51/100\n",
            "37/37 [==============================] - 0s 1ms/step - loss: 0.2747 - department_output_loss: 0.2209 - attrition_output_loss: 0.0537 - department_output_accuracy: 0.9303 - attrition_output_accuracy: 0.9889 - val_loss: 2.6040 - val_department_output_loss: 1.4770 - val_attrition_output_loss: 1.1270 - val_department_output_accuracy: 0.5442 - val_attrition_output_accuracy: 0.7857\n",
            "Epoch 52/100\n",
            "37/37 [==============================] - 0s 1ms/step - loss: 0.2546 - department_output_loss: 0.2084 - attrition_output_loss: 0.0462 - department_output_accuracy: 0.9396 - attrition_output_accuracy: 0.9889 - val_loss: 2.6514 - val_department_output_loss: 1.4983 - val_attrition_output_loss: 1.1531 - val_department_output_accuracy: 0.5408 - val_attrition_output_accuracy: 0.8061\n",
            "Epoch 53/100\n",
            "37/37 [==============================] - 0s 1ms/step - loss: 0.2469 - department_output_loss: 0.1999 - attrition_output_loss: 0.0470 - department_output_accuracy: 0.9388 - attrition_output_accuracy: 0.9889 - val_loss: 2.7329 - val_department_output_loss: 1.5464 - val_attrition_output_loss: 1.1865 - val_department_output_accuracy: 0.5748 - val_attrition_output_accuracy: 0.7959\n",
            "Epoch 54/100\n",
            "37/37 [==============================] - 0s 1ms/step - loss: 0.2566 - department_output_loss: 0.2065 - attrition_output_loss: 0.0501 - department_output_accuracy: 0.9303 - attrition_output_accuracy: 0.9864 - val_loss: 2.8089 - val_department_output_loss: 1.6120 - val_attrition_output_loss: 1.1969 - val_department_output_accuracy: 0.5034 - val_attrition_output_accuracy: 0.7891\n",
            "Epoch 55/100\n",
            "37/37 [==============================] - 0s 1ms/step - loss: 0.2378 - department_output_loss: 0.1929 - attrition_output_loss: 0.0449 - department_output_accuracy: 0.9473 - attrition_output_accuracy: 0.9889 - val_loss: 2.8030 - val_department_output_loss: 1.5736 - val_attrition_output_loss: 1.2294 - val_department_output_accuracy: 0.5442 - val_attrition_output_accuracy: 0.7755\n",
            "Epoch 56/100\n",
            "37/37 [==============================] - 0s 1ms/step - loss: 0.2043 - department_output_loss: 0.1629 - attrition_output_loss: 0.0414 - department_output_accuracy: 0.9549 - attrition_output_accuracy: 0.9889 - val_loss: 2.8295 - val_department_output_loss: 1.6187 - val_attrition_output_loss: 1.2109 - val_department_output_accuracy: 0.5714 - val_attrition_output_accuracy: 0.8163\n",
            "Epoch 57/100\n",
            "37/37 [==============================] - 0s 1ms/step - loss: 0.1979 - department_output_loss: 0.1612 - attrition_output_loss: 0.0367 - department_output_accuracy: 0.9600 - attrition_output_accuracy: 0.9940 - val_loss: 2.8783 - val_department_output_loss: 1.6649 - val_attrition_output_loss: 1.2135 - val_department_output_accuracy: 0.5204 - val_attrition_output_accuracy: 0.7925\n",
            "Epoch 58/100\n",
            "37/37 [==============================] - 0s 1ms/step - loss: 0.1943 - department_output_loss: 0.1586 - attrition_output_loss: 0.0356 - department_output_accuracy: 0.9583 - attrition_output_accuracy: 0.9915 - val_loss: 3.0218 - val_department_output_loss: 1.6970 - val_attrition_output_loss: 1.3248 - val_department_output_accuracy: 0.5170 - val_attrition_output_accuracy: 0.7755\n",
            "Epoch 59/100\n",
            "37/37 [==============================] - 0s 1ms/step - loss: 0.1942 - department_output_loss: 0.1597 - attrition_output_loss: 0.0345 - department_output_accuracy: 0.9558 - attrition_output_accuracy: 0.9923 - val_loss: 2.9529 - val_department_output_loss: 1.6747 - val_attrition_output_loss: 1.2782 - val_department_output_accuracy: 0.5170 - val_attrition_output_accuracy: 0.8095\n",
            "Epoch 60/100\n",
            "37/37 [==============================] - 0s 1ms/step - loss: 0.1863 - department_output_loss: 0.1551 - attrition_output_loss: 0.0312 - department_output_accuracy: 0.9575 - attrition_output_accuracy: 0.9932 - val_loss: 3.0143 - val_department_output_loss: 1.7023 - val_attrition_output_loss: 1.3120 - val_department_output_accuracy: 0.5272 - val_attrition_output_accuracy: 0.7891\n",
            "Epoch 61/100\n",
            "37/37 [==============================] - 0s 1ms/step - loss: 0.1689 - department_output_loss: 0.1384 - attrition_output_loss: 0.0304 - department_output_accuracy: 0.9719 - attrition_output_accuracy: 0.9966 - val_loss: 3.0952 - val_department_output_loss: 1.7117 - val_attrition_output_loss: 1.3835 - val_department_output_accuracy: 0.5204 - val_attrition_output_accuracy: 0.8163\n",
            "Epoch 62/100\n",
            "37/37 [==============================] - 0s 1ms/step - loss: 0.1596 - department_output_loss: 0.1304 - attrition_output_loss: 0.0293 - department_output_accuracy: 0.9745 - attrition_output_accuracy: 0.9957 - val_loss: 3.1380 - val_department_output_loss: 1.7508 - val_attrition_output_loss: 1.3871 - val_department_output_accuracy: 0.5476 - val_attrition_output_accuracy: 0.7959\n",
            "Epoch 63/100\n",
            "37/37 [==============================] - 0s 1ms/step - loss: 0.1507 - department_output_loss: 0.1219 - attrition_output_loss: 0.0288 - department_output_accuracy: 0.9745 - attrition_output_accuracy: 0.9949 - val_loss: 3.2972 - val_department_output_loss: 1.8775 - val_attrition_output_loss: 1.4197 - val_department_output_accuracy: 0.5170 - val_attrition_output_accuracy: 0.8129\n",
            "Epoch 64/100\n",
            "37/37 [==============================] - 0s 1ms/step - loss: 0.1518 - department_output_loss: 0.1253 - attrition_output_loss: 0.0265 - department_output_accuracy: 0.9728 - attrition_output_accuracy: 0.9949 - val_loss: 3.2644 - val_department_output_loss: 1.8074 - val_attrition_output_loss: 1.4570 - val_department_output_accuracy: 0.5442 - val_attrition_output_accuracy: 0.8027\n",
            "Epoch 65/100\n",
            "37/37 [==============================] - 0s 1ms/step - loss: 0.1359 - department_output_loss: 0.1127 - attrition_output_loss: 0.0232 - department_output_accuracy: 0.9779 - attrition_output_accuracy: 0.9974 - val_loss: 3.2988 - val_department_output_loss: 1.8244 - val_attrition_output_loss: 1.4744 - val_department_output_accuracy: 0.5238 - val_attrition_output_accuracy: 0.8027\n",
            "Epoch 66/100\n",
            "37/37 [==============================] - 0s 1ms/step - loss: 0.1380 - department_output_loss: 0.1159 - attrition_output_loss: 0.0221 - department_output_accuracy: 0.9685 - attrition_output_accuracy: 0.9974 - val_loss: 3.3443 - val_department_output_loss: 1.8436 - val_attrition_output_loss: 1.5007 - val_department_output_accuracy: 0.5170 - val_attrition_output_accuracy: 0.8197\n",
            "Epoch 67/100\n",
            "37/37 [==============================] - 0s 1ms/step - loss: 0.1354 - department_output_loss: 0.1103 - attrition_output_loss: 0.0250 - department_output_accuracy: 0.9779 - attrition_output_accuracy: 0.9974 - val_loss: 3.4053 - val_department_output_loss: 1.8756 - val_attrition_output_loss: 1.5297 - val_department_output_accuracy: 0.5646 - val_attrition_output_accuracy: 0.8265\n",
            "Epoch 68/100\n",
            "37/37 [==============================] - 0s 1ms/step - loss: 0.1270 - department_output_loss: 0.1052 - attrition_output_loss: 0.0218 - department_output_accuracy: 0.9796 - attrition_output_accuracy: 0.9974 - val_loss: 3.4718 - val_department_output_loss: 1.8995 - val_attrition_output_loss: 1.5723 - val_department_output_accuracy: 0.5408 - val_attrition_output_accuracy: 0.8129\n",
            "Epoch 69/100\n",
            "37/37 [==============================] - 0s 1ms/step - loss: 0.1209 - department_output_loss: 0.1012 - attrition_output_loss: 0.0197 - department_output_accuracy: 0.9830 - attrition_output_accuracy: 0.9974 - val_loss: 3.5063 - val_department_output_loss: 1.9675 - val_attrition_output_loss: 1.5388 - val_department_output_accuracy: 0.4966 - val_attrition_output_accuracy: 0.7891\n",
            "Epoch 70/100\n",
            "37/37 [==============================] - 0s 1ms/step - loss: 0.1239 - department_output_loss: 0.1062 - attrition_output_loss: 0.0177 - department_output_accuracy: 0.9719 - attrition_output_accuracy: 0.9949 - val_loss: 3.6164 - val_department_output_loss: 1.9872 - val_attrition_output_loss: 1.6292 - val_department_output_accuracy: 0.5442 - val_attrition_output_accuracy: 0.8129\n",
            "Epoch 71/100\n",
            "37/37 [==============================] - 0s 1ms/step - loss: 0.1096 - department_output_loss: 0.0889 - attrition_output_loss: 0.0206 - department_output_accuracy: 0.9847 - attrition_output_accuracy: 0.9949 - val_loss: 3.6208 - val_department_output_loss: 2.0415 - val_attrition_output_loss: 1.5793 - val_department_output_accuracy: 0.5340 - val_attrition_output_accuracy: 0.7891\n",
            "Epoch 72/100\n",
            "37/37 [==============================] - 0s 1ms/step - loss: 0.1142 - department_output_loss: 0.0961 - attrition_output_loss: 0.0181 - department_output_accuracy: 0.9762 - attrition_output_accuracy: 0.9983 - val_loss: 3.6592 - val_department_output_loss: 2.0540 - val_attrition_output_loss: 1.6052 - val_department_output_accuracy: 0.5238 - val_attrition_output_accuracy: 0.8129\n",
            "Epoch 73/100\n",
            "37/37 [==============================] - 0s 1ms/step - loss: 0.1061 - department_output_loss: 0.0891 - attrition_output_loss: 0.0170 - department_output_accuracy: 0.9847 - attrition_output_accuracy: 0.9983 - val_loss: 3.7127 - val_department_output_loss: 2.0906 - val_attrition_output_loss: 1.6221 - val_department_output_accuracy: 0.5238 - val_attrition_output_accuracy: 0.7959\n",
            "Epoch 74/100\n",
            "37/37 [==============================] - 0s 1ms/step - loss: 0.1154 - department_output_loss: 0.0879 - attrition_output_loss: 0.0274 - department_output_accuracy: 0.9838 - attrition_output_accuracy: 0.9957 - val_loss: 3.6961 - val_department_output_loss: 2.0645 - val_attrition_output_loss: 1.6317 - val_department_output_accuracy: 0.5374 - val_attrition_output_accuracy: 0.8163\n",
            "Epoch 75/100\n",
            "37/37 [==============================] - 0s 1ms/step - loss: 0.1063 - department_output_loss: 0.0796 - attrition_output_loss: 0.0267 - department_output_accuracy: 0.9872 - attrition_output_accuracy: 0.9932 - val_loss: 3.8398 - val_department_output_loss: 2.1397 - val_attrition_output_loss: 1.7000 - val_department_output_accuracy: 0.5238 - val_attrition_output_accuracy: 0.7755\n",
            "Epoch 76/100\n",
            "37/37 [==============================] - 0s 1ms/step - loss: 0.0927 - department_output_loss: 0.0728 - attrition_output_loss: 0.0199 - department_output_accuracy: 0.9872 - attrition_output_accuracy: 0.9957 - val_loss: 3.8853 - val_department_output_loss: 2.2040 - val_attrition_output_loss: 1.6812 - val_department_output_accuracy: 0.5068 - val_attrition_output_accuracy: 0.7755\n",
            "Epoch 77/100\n",
            "37/37 [==============================] - 0s 1ms/step - loss: 0.0906 - department_output_loss: 0.0736 - attrition_output_loss: 0.0170 - department_output_accuracy: 0.9872 - attrition_output_accuracy: 0.9983 - val_loss: 3.8907 - val_department_output_loss: 2.2101 - val_attrition_output_loss: 1.6805 - val_department_output_accuracy: 0.5272 - val_attrition_output_accuracy: 0.7925\n",
            "Epoch 78/100\n",
            "37/37 [==============================] - 0s 1ms/step - loss: 0.0834 - department_output_loss: 0.0669 - attrition_output_loss: 0.0165 - department_output_accuracy: 0.9889 - attrition_output_accuracy: 0.9966 - val_loss: 3.9565 - val_department_output_loss: 2.2172 - val_attrition_output_loss: 1.7393 - val_department_output_accuracy: 0.5306 - val_attrition_output_accuracy: 0.8027\n",
            "Epoch 79/100\n",
            "37/37 [==============================] - 0s 1ms/step - loss: 0.0803 - department_output_loss: 0.0670 - attrition_output_loss: 0.0133 - department_output_accuracy: 0.9889 - attrition_output_accuracy: 0.9983 - val_loss: 4.0703 - val_department_output_loss: 2.2858 - val_attrition_output_loss: 1.7845 - val_department_output_accuracy: 0.5442 - val_attrition_output_accuracy: 0.8197\n",
            "Epoch 80/100\n",
            "37/37 [==============================] - 0s 1ms/step - loss: 0.0745 - department_output_loss: 0.0625 - attrition_output_loss: 0.0120 - department_output_accuracy: 0.9889 - attrition_output_accuracy: 0.9983 - val_loss: 3.9811 - val_department_output_loss: 2.2323 - val_attrition_output_loss: 1.7488 - val_department_output_accuracy: 0.5306 - val_attrition_output_accuracy: 0.8197\n",
            "Epoch 81/100\n",
            "37/37 [==============================] - 0s 1ms/step - loss: 0.0735 - department_output_loss: 0.0614 - attrition_output_loss: 0.0121 - department_output_accuracy: 0.9957 - attrition_output_accuracy: 0.9974 - val_loss: 4.0743 - val_department_output_loss: 2.2871 - val_attrition_output_loss: 1.7872 - val_department_output_accuracy: 0.5476 - val_attrition_output_accuracy: 0.7925\n",
            "Epoch 82/100\n",
            "37/37 [==============================] - 0s 1ms/step - loss: 0.0662 - department_output_loss: 0.0559 - attrition_output_loss: 0.0102 - department_output_accuracy: 0.9932 - attrition_output_accuracy: 0.9991 - val_loss: 4.1191 - val_department_output_loss: 2.2951 - val_attrition_output_loss: 1.8240 - val_department_output_accuracy: 0.5272 - val_attrition_output_accuracy: 0.7925\n",
            "Epoch 83/100\n",
            "37/37 [==============================] - 0s 1ms/step - loss: 0.0601 - department_output_loss: 0.0478 - attrition_output_loss: 0.0124 - department_output_accuracy: 0.9957 - attrition_output_accuracy: 0.9983 - val_loss: 4.1568 - val_department_output_loss: 2.2953 - val_attrition_output_loss: 1.8615 - val_department_output_accuracy: 0.5204 - val_attrition_output_accuracy: 0.7755\n",
            "Epoch 84/100\n",
            "37/37 [==============================] - 0s 1ms/step - loss: 0.0610 - department_output_loss: 0.0491 - attrition_output_loss: 0.0119 - department_output_accuracy: 0.9949 - attrition_output_accuracy: 0.9966 - val_loss: 4.2662 - val_department_output_loss: 2.3784 - val_attrition_output_loss: 1.8877 - val_department_output_accuracy: 0.5510 - val_attrition_output_accuracy: 0.7993\n",
            "Epoch 85/100\n",
            "37/37 [==============================] - 0s 1ms/step - loss: 0.0703 - department_output_loss: 0.0535 - attrition_output_loss: 0.0168 - department_output_accuracy: 0.9881 - attrition_output_accuracy: 0.9957 - val_loss: 4.3079 - val_department_output_loss: 2.3921 - val_attrition_output_loss: 1.9158 - val_department_output_accuracy: 0.5000 - val_attrition_output_accuracy: 0.8197\n",
            "Epoch 86/100\n",
            "37/37 [==============================] - 0s 1ms/step - loss: 0.0734 - department_output_loss: 0.0568 - attrition_output_loss: 0.0166 - department_output_accuracy: 0.9889 - attrition_output_accuracy: 0.9966 - val_loss: 4.3152 - val_department_output_loss: 2.4192 - val_attrition_output_loss: 1.8960 - val_department_output_accuracy: 0.5306 - val_attrition_output_accuracy: 0.8197\n",
            "Epoch 87/100\n",
            "37/37 [==============================] - 0s 1ms/step - loss: 0.0749 - department_output_loss: 0.0439 - attrition_output_loss: 0.0311 - department_output_accuracy: 0.9957 - attrition_output_accuracy: 0.9906 - val_loss: 4.4080 - val_department_output_loss: 2.4319 - val_attrition_output_loss: 1.9762 - val_department_output_accuracy: 0.5340 - val_attrition_output_accuracy: 0.7993\n",
            "Epoch 88/100\n",
            "37/37 [==============================] - 0s 1ms/step - loss: 0.0798 - department_output_loss: 0.0538 - attrition_output_loss: 0.0260 - department_output_accuracy: 0.9898 - attrition_output_accuracy: 0.9906 - val_loss: 4.3810 - val_department_output_loss: 2.4751 - val_attrition_output_loss: 1.9060 - val_department_output_accuracy: 0.5374 - val_attrition_output_accuracy: 0.8095\n",
            "Epoch 89/100\n",
            "37/37 [==============================] - 0s 1ms/step - loss: 0.0803 - department_output_loss: 0.0607 - attrition_output_loss: 0.0196 - department_output_accuracy: 0.9872 - attrition_output_accuracy: 0.9949 - val_loss: 4.3881 - val_department_output_loss: 2.4780 - val_attrition_output_loss: 1.9101 - val_department_output_accuracy: 0.5136 - val_attrition_output_accuracy: 0.7891\n",
            "Epoch 90/100\n",
            "37/37 [==============================] - 0s 1ms/step - loss: 0.0774 - department_output_loss: 0.0606 - attrition_output_loss: 0.0168 - department_output_accuracy: 0.9838 - attrition_output_accuracy: 0.9957 - val_loss: 4.5103 - val_department_output_loss: 2.5318 - val_attrition_output_loss: 1.9785 - val_department_output_accuracy: 0.5204 - val_attrition_output_accuracy: 0.7721\n",
            "Epoch 91/100\n",
            "37/37 [==============================] - 0s 1ms/step - loss: 0.0666 - department_output_loss: 0.0504 - attrition_output_loss: 0.0162 - department_output_accuracy: 0.9940 - attrition_output_accuracy: 0.9966 - val_loss: 4.3686 - val_department_output_loss: 2.4594 - val_attrition_output_loss: 1.9092 - val_department_output_accuracy: 0.5442 - val_attrition_output_accuracy: 0.8095\n",
            "Epoch 92/100\n",
            "37/37 [==============================] - 0s 1ms/step - loss: 0.0534 - department_output_loss: 0.0439 - attrition_output_loss: 0.0095 - department_output_accuracy: 0.9940 - attrition_output_accuracy: 0.9991 - val_loss: 4.5012 - val_department_output_loss: 2.5125 - val_attrition_output_loss: 1.9887 - val_department_output_accuracy: 0.5510 - val_attrition_output_accuracy: 0.7959\n",
            "Epoch 93/100\n",
            "37/37 [==============================] - 0s 1ms/step - loss: 0.0483 - department_output_loss: 0.0412 - attrition_output_loss: 0.0071 - department_output_accuracy: 0.9949 - attrition_output_accuracy: 1.0000 - val_loss: 4.5643 - val_department_output_loss: 2.5445 - val_attrition_output_loss: 2.0198 - val_department_output_accuracy: 0.5034 - val_attrition_output_accuracy: 0.8129\n",
            "Epoch 94/100\n",
            "37/37 [==============================] - 0s 1ms/step - loss: 0.0473 - department_output_loss: 0.0400 - attrition_output_loss: 0.0073 - department_output_accuracy: 0.9932 - attrition_output_accuracy: 0.9991 - val_loss: 4.6348 - val_department_output_loss: 2.5711 - val_attrition_output_loss: 2.0637 - val_department_output_accuracy: 0.5544 - val_attrition_output_accuracy: 0.8163\n",
            "Epoch 95/100\n",
            "37/37 [==============================] - 0s 1ms/step - loss: 0.0688 - department_output_loss: 0.0615 - attrition_output_loss: 0.0074 - department_output_accuracy: 0.9804 - attrition_output_accuracy: 1.0000 - val_loss: 4.5545 - val_department_output_loss: 2.5411 - val_attrition_output_loss: 2.0134 - val_department_output_accuracy: 0.5374 - val_attrition_output_accuracy: 0.8129\n",
            "Epoch 96/100\n",
            "37/37 [==============================] - 0s 1ms/step - loss: 0.0644 - department_output_loss: 0.0578 - attrition_output_loss: 0.0066 - department_output_accuracy: 0.9864 - attrition_output_accuracy: 1.0000 - val_loss: 4.6906 - val_department_output_loss: 2.6135 - val_attrition_output_loss: 2.0771 - val_department_output_accuracy: 0.5102 - val_attrition_output_accuracy: 0.7925\n",
            "Epoch 97/100\n",
            "37/37 [==============================] - 0s 1ms/step - loss: 0.0702 - department_output_loss: 0.0643 - attrition_output_loss: 0.0059 - department_output_accuracy: 0.9847 - attrition_output_accuracy: 1.0000 - val_loss: 4.9219 - val_department_output_loss: 2.7827 - val_attrition_output_loss: 2.1391 - val_department_output_accuracy: 0.5986 - val_attrition_output_accuracy: 0.8027\n",
            "Epoch 98/100\n",
            "37/37 [==============================] - 0s 1ms/step - loss: 0.0631 - department_output_loss: 0.0570 - attrition_output_loss: 0.0061 - department_output_accuracy: 0.9855 - attrition_output_accuracy: 1.0000 - val_loss: 4.7984 - val_department_output_loss: 2.7013 - val_attrition_output_loss: 2.0971 - val_department_output_accuracy: 0.5102 - val_attrition_output_accuracy: 0.7993\n",
            "Epoch 99/100\n",
            "37/37 [==============================] - 0s 1ms/step - loss: 0.0368 - department_output_loss: 0.0311 - attrition_output_loss: 0.0057 - department_output_accuracy: 0.9991 - attrition_output_accuracy: 1.0000 - val_loss: 4.8354 - val_department_output_loss: 2.6987 - val_attrition_output_loss: 2.1367 - val_department_output_accuracy: 0.5136 - val_attrition_output_accuracy: 0.8095\n",
            "Epoch 100/100\n",
            "37/37 [==============================] - 0s 1ms/step - loss: 0.0355 - department_output_loss: 0.0300 - attrition_output_loss: 0.0055 - department_output_accuracy: 0.9983 - attrition_output_accuracy: 0.9991 - val_loss: 4.9298 - val_department_output_loss: 2.7660 - val_attrition_output_loss: 2.1638 - val_department_output_accuracy: 0.5170 - val_attrition_output_accuracy: 0.8061\n"
          ]
        }
      ],
      "source": [
        "# Train the model\n",
        "history = model.fit(\n",
        "    X_train_scaled,\n",
        "    {'department_output': y_train_department_encoded, 'attrition_output': y_train_attrition_encoded},\n",
        "    validation_data=(X_test_scaled, {'department_output': y_test_department_encoded, 'attrition_output': y_test_attrition_encoded}),\n",
        "    epochs=100,\n",
        "    batch_size=32,\n",
        "    verbose=1\n",
        ")"
      ]
    },
    {
      "cell_type": "code",
      "execution_count": 16,
      "metadata": {
        "colab": {
          "base_uri": "https://localhost:8080/"
        },
        "id": "VsMoaQlgGc3U",
        "outputId": "1bd4e601-e964-4abc-ad83-aeecf6b696be"
      },
      "outputs": [
        {
          "name": "stdout",
          "output_type": "stream",
          "text": [
            "10/10 [==============================] - 0s 722us/step - loss: 4.9298 - department_output_loss: 2.7660 - attrition_output_loss: 2.1638 - department_output_accuracy: 0.5170 - attrition_output_accuracy: 0.8061\n"
          ]
        }
      ],
      "source": [
        "# Evaluate the model with the testing data\n",
        "# Evaluate the model on the test data\n",
        "evaluation_results = model.evaluate(\n",
        "    X_test_scaled,\n",
        "    {'department_output': y_test_department_encoded, 'attrition_output': y_test_attrition_encoded},\n",
        "    verbose=1\n",
        ")\n",
        "\n"
      ]
    },
    {
      "cell_type": "code",
      "execution_count": 17,
      "metadata": {
        "colab": {
          "base_uri": "https://localhost:8080/"
        },
        "id": "ZlCtlHi0Vt54",
        "outputId": "bc21ef3e-80c2-4b38-9c29-79515bc23dec"
      },
      "outputs": [
        {
          "name": "stdout",
          "output_type": "stream",
          "text": [
            "Department preditions accuracy: 0.5170068144798279\n",
            "Attrition predictions accuracy: 0.8061224222183228\n"
          ]
        }
      ],
      "source": [
        "# Print the accuracy for both department and attrition\n",
        "# Print the evaluation results\n",
        "print(f\"Department preditions accuracy: {evaluation_results[3]}\")\n",
        "print(f\"Attrition predictions accuracy: {evaluation_results[4]}\")"
      ]
    },
    {
      "cell_type": "markdown",
      "metadata": {
        "id": "eGSyfsZfWOQM"
      },
      "source": [
        "# Summary\n",
        "\n",
        "In the provided space below, briefly answer the following questions.\n",
        "\n",
        "1. Is accuracy the best metric to use on this data? Why or why not?\n",
        "\n",
        "2. What activation functions did you choose for your output layers, and why?\n",
        "\n",
        "3. Can you name a few ways that this model might be improved?"
      ]
    },
    {
      "cell_type": "markdown",
      "metadata": {
        "id": "pi9SLpFnWvbF"
      },
      "source": [
        "YOUR ANSWERS HERE\n",
        "\n",
        "1. Accuracy may not be the best metric for this data, especially if the classes are imbalanced (e.g., more instances of one class than another). In such cases, accuracy can be misleading because it doesn't account for the distribution of classes and might not reflect the model's true performance. Metrics like precision, recall, or F1-score are often more informative in such scenarios.\n",
        "2. For the department_output layer, I chose softmax activation because it's suitable for multi-class classification tasks. Softmax outputs probabilities that sum to 1 across all classes.\n",
        "For the attrition_output layer, since attrition is binary, sigmoid activation is suitable. Sigmoid outputs a probability score between 0 and 1, which can be interpreted as the likelihood of an employee leaving.\n",
        "3. Consider using metrics like precision, recall, F1-score, or ROC-AUC for evaluating model performance, especially given the binary nature of the attrition prediction.\n",
        "Explore techniques specific to handling imbalanced classes, such as class weighting, oversampling, or using evaluation metrics that are robust to class imbalance.\n",
        "Implement regularization techniques like dropout or L2 regularization to prevent overfitting, especially if the dataset is small or noisy.\n",
        "Experiment with different model architectures, hyperparameters, and feature engineering techniques to improve predictive accuracy and robustness."
      ]
    },
    {
      "cell_type": "markdown",
      "metadata": {},
      "source": []
    }
  ],
  "metadata": {
    "colab": {
      "provenance": []
    },
    "kernelspec": {
      "display_name": "Python 3",
      "language": "python",
      "name": "python3"
    },
    "language_info": {
      "codemirror_mode": {
        "name": "ipython",
        "version": 3
      },
      "file_extension": ".py",
      "mimetype": "text/x-python",
      "name": "python",
      "nbconvert_exporter": "python",
      "pygments_lexer": "ipython3",
      "version": "3.10.13"
    },
    "vscode": {
      "interpreter": {
        "hash": "31f2aee4e71d21fbe5cf8b01ff0e069b9275f58929596ceb00d14d90e3e16cd6"
      }
    }
  },
  "nbformat": 4,
  "nbformat_minor": 0
}
